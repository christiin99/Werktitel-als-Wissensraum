{
 "cells": [
  {
   "cell_type": "markdown",
   "id": "c8529897",
   "metadata": {},
   "source": [
    "# Werktitel als Wissensraum"
   ]
  },
  {
   "cell_type": "markdown",
   "id": "5dc37220",
   "metadata": {},
   "source": [
    "## Visualisierungen mit Dash"
   ]
  },
  {
   "cell_type": "markdown",
   "id": "fb2acb2f",
   "metadata": {},
   "source": [
    "Alle nötigen Packages müssen installiert werden, um die Werte aus dem Datensatz zu visualieren."
   ]
  },
  {
   "cell_type": "code",
   "execution_count": 14,
   "id": "7abb093d",
   "metadata": {},
   "outputs": [],
   "source": [
    "import pandas as pd  # Bibliothek zum Einlesen der Excel-Datei als Pandas-Dataframe\n",
    "import plotly.graph_objs as go  # Bibliothek zum Visualisieren der Daten\n",
    "import plotly.express as px  # Bibliothek zum Visualisieren der Daten für interaktive Plots\n",
    "import dash  # grundlegendes Hauptmodul für das Erstellen der Dash-Anwendung\n",
    "from dash import dcc, html, Input, Output  # dcc für Dropdowns, html für darauf basierende Komponenten, die in\n",
    "# Dash-Anwendungen verwendet werden können, Input und Output für Callbacks\n",
    "import random  # Bibliothek zur Generierung von zufälligen Werten in Verbindung mit der Werksuche-Funktion\n",
    "from fuzzywuzzy import process  # Bibliothek um String-Matching von Werten (hier: Namen von Autor*innen)\n",
    "# in Verbindung mit der Werksuche-Funktion durchzuführen"
   ]
  },
  {
   "cell_type": "markdown",
   "id": "be9ac2aa",
   "metadata": {},
   "source": [
    "Unser Datensatz muss eingelesen werden. Der Datensatz kann in OpenRefine in unterschiedlichen Formaten heruntergeladen werden. Wir haben uns für das xlsx-Format entschieden. Im Datensatz gibt es einige Autor\\*innen, die mehrere Einträge besitzen. Wir wollen allerdings jede\\*n Autor\\*in gleich gewichten, da für uns primär die Genderverteilung des Datensatzes wichtig ist. Mithilfe der drop_duplicates-Funktion haben wir diese Einträge aus dem Code entfernt. Diese werden wir in der Anleitung als \"Duplikate\" bezeichnen.\n",
    "\n",
    "Da unsere Werksuche ganz andere Kriterien hat beim Entfernen der Duplikate als unsere anderen Untersuchungen, nämlich dass wir alle Werke eines/einer Autor\\*in zeigen wollen, haben wir zwei Datenframes erstellt. *df2* zeigt alle Werke eines/einer Autor\\*in an, während *df_unique* Duplikate in den Kategorien Autor, Nationalität, Geschlecht, Gattung und Wirkungsort entfernt."
   ]
  },
  {
   "cell_type": "code",
   "execution_count": 15,
   "id": "900c9e40",
   "metadata": {},
   "outputs": [],
   "source": [
    "# Suchfeld\n",
    "# Pfad zur Excel-Datei; diese laden\n",
    "excel_datei_pfad = \"Datensatz-Werktitel-Stand-10-07.xlsx\"\n",
    "\n",
    "# Daten aus der Excel-Datei lesen und leere Zeilen löschen - für Thema 1 (Werksuche)\n",
    "df2 = pd.read_excel(excel_datei_pfad).dropna(subset=[\"Autor\"])\n",
    "\n",
    "# Alle anderen Themen\n",
    "# Die Excel-Datei einlesen\n",
    "df = pd.read_excel(\"Datensatz-Werktitel-Stand-10-07.xlsx\")\n",
    "\n",
    "# Duplikate aus den Spalten \"Geschlecht\", \"Autor\", \"Nationalität\", \"Gattung\" und \"Wirkungsort\" entfernen\n",
    "df_unique = df.drop_duplicates(subset=[\"Autor\", \"Nationalität\", \"Geschlecht\", \"Gattung\", \"Wirkungsort\"])"
   ]
  },
  {
   "cell_type": "markdown",
   "id": "aa0c3032",
   "metadata": {},
   "source": [
    "Ein Kreisdiagramm mit den TOP11 Ländern wird erstellt. Diese elf Länder werden für das Thema 2 nach der Geschlechterverteilung in den Gattungen untersucht. Hier werden nochmals Duplikate entfernt, obwohl im vorherigen Schritt schon geschehen, da der Code sonst nicht fehlerlos läuft. Wir haben leider nicht herausfinden können, woran es liegt."
   ]
  },
  {
   "cell_type": "code",
   "execution_count": 16,
   "id": "31604373",
   "metadata": {},
   "outputs": [
    {
     "data": {
      "application/vnd.plotly.v1+json": {
       "config": {
        "plotlyServerURL": "https://plot.ly"
       },
       "data": [
        {
         "hole": 0.3,
         "labels": [
          "Musik",
          "Epik",
          "Lyrik",
          "Drama",
          "Kunst",
          "Film",
          "Andere"
         ],
         "marker": {
          "colors": [
           "#DDBFA9",
           "#FF9642",
           "#00CED1",
           "#ECD540",
           "#FFC0CB",
           "#FFFF66",
           "#85e0db",
           "#FF7F50",
           "#98FB98",
           "#87CEEB",
           "#8BD3E6",
           "#E6E6FA",
           "#98FB98",
           "#FA8072",
           "#CCCCFF",
           "#FFFACD",
           "#008080",
           "#FFFDD0",
           "#C8A2C8",
           "#F0FFF0",
           "#FADADD"
          ]
         },
         "type": "pie",
         "values": [
          229,
          157,
          50,
          32,
          29,
          5,
          3
         ]
        }
       ],
       "layout": {
        "annotations": [
         {
          "font": {
           "size": 12
          },
          "showarrow": false,
          "text": "Männlich",
          "x": 0.2,
          "y": 0.5
         },
         {
          "font": {
           "size": 12
          },
          "showarrow": false,
          "text": "Weiblich",
          "x": 0.8,
          "y": 0.5
         }
        ],
        "template": {
         "data": {
          "bar": [
           {
            "error_x": {
             "color": "#2a3f5f"
            },
            "error_y": {
             "color": "#2a3f5f"
            },
            "marker": {
             "line": {
              "color": "#E5ECF6",
              "width": 0.5
             },
             "pattern": {
              "fillmode": "overlay",
              "size": 10,
              "solidity": 0.2
             }
            },
            "type": "bar"
           }
          ],
          "barpolar": [
           {
            "marker": {
             "line": {
              "color": "#E5ECF6",
              "width": 0.5
             },
             "pattern": {
              "fillmode": "overlay",
              "size": 10,
              "solidity": 0.2
             }
            },
            "type": "barpolar"
           }
          ],
          "carpet": [
           {
            "aaxis": {
             "endlinecolor": "#2a3f5f",
             "gridcolor": "white",
             "linecolor": "white",
             "minorgridcolor": "white",
             "startlinecolor": "#2a3f5f"
            },
            "baxis": {
             "endlinecolor": "#2a3f5f",
             "gridcolor": "white",
             "linecolor": "white",
             "minorgridcolor": "white",
             "startlinecolor": "#2a3f5f"
            },
            "type": "carpet"
           }
          ],
          "choropleth": [
           {
            "colorbar": {
             "outlinewidth": 0,
             "ticks": ""
            },
            "type": "choropleth"
           }
          ],
          "contour": [
           {
            "colorbar": {
             "outlinewidth": 0,
             "ticks": ""
            },
            "colorscale": [
             [
              0,
              "#0d0887"
             ],
             [
              0.1111111111111111,
              "#46039f"
             ],
             [
              0.2222222222222222,
              "#7201a8"
             ],
             [
              0.3333333333333333,
              "#9c179e"
             ],
             [
              0.4444444444444444,
              "#bd3786"
             ],
             [
              0.5555555555555556,
              "#d8576b"
             ],
             [
              0.6666666666666666,
              "#ed7953"
             ],
             [
              0.7777777777777778,
              "#fb9f3a"
             ],
             [
              0.8888888888888888,
              "#fdca26"
             ],
             [
              1,
              "#f0f921"
             ]
            ],
            "type": "contour"
           }
          ],
          "contourcarpet": [
           {
            "colorbar": {
             "outlinewidth": 0,
             "ticks": ""
            },
            "type": "contourcarpet"
           }
          ],
          "heatmap": [
           {
            "colorbar": {
             "outlinewidth": 0,
             "ticks": ""
            },
            "colorscale": [
             [
              0,
              "#0d0887"
             ],
             [
              0.1111111111111111,
              "#46039f"
             ],
             [
              0.2222222222222222,
              "#7201a8"
             ],
             [
              0.3333333333333333,
              "#9c179e"
             ],
             [
              0.4444444444444444,
              "#bd3786"
             ],
             [
              0.5555555555555556,
              "#d8576b"
             ],
             [
              0.6666666666666666,
              "#ed7953"
             ],
             [
              0.7777777777777778,
              "#fb9f3a"
             ],
             [
              0.8888888888888888,
              "#fdca26"
             ],
             [
              1,
              "#f0f921"
             ]
            ],
            "type": "heatmap"
           }
          ],
          "heatmapgl": [
           {
            "colorbar": {
             "outlinewidth": 0,
             "ticks": ""
            },
            "colorscale": [
             [
              0,
              "#0d0887"
             ],
             [
              0.1111111111111111,
              "#46039f"
             ],
             [
              0.2222222222222222,
              "#7201a8"
             ],
             [
              0.3333333333333333,
              "#9c179e"
             ],
             [
              0.4444444444444444,
              "#bd3786"
             ],
             [
              0.5555555555555556,
              "#d8576b"
             ],
             [
              0.6666666666666666,
              "#ed7953"
             ],
             [
              0.7777777777777778,
              "#fb9f3a"
             ],
             [
              0.8888888888888888,
              "#fdca26"
             ],
             [
              1,
              "#f0f921"
             ]
            ],
            "type": "heatmapgl"
           }
          ],
          "histogram": [
           {
            "marker": {
             "pattern": {
              "fillmode": "overlay",
              "size": 10,
              "solidity": 0.2
             }
            },
            "type": "histogram"
           }
          ],
          "histogram2d": [
           {
            "colorbar": {
             "outlinewidth": 0,
             "ticks": ""
            },
            "colorscale": [
             [
              0,
              "#0d0887"
             ],
             [
              0.1111111111111111,
              "#46039f"
             ],
             [
              0.2222222222222222,
              "#7201a8"
             ],
             [
              0.3333333333333333,
              "#9c179e"
             ],
             [
              0.4444444444444444,
              "#bd3786"
             ],
             [
              0.5555555555555556,
              "#d8576b"
             ],
             [
              0.6666666666666666,
              "#ed7953"
             ],
             [
              0.7777777777777778,
              "#fb9f3a"
             ],
             [
              0.8888888888888888,
              "#fdca26"
             ],
             [
              1,
              "#f0f921"
             ]
            ],
            "type": "histogram2d"
           }
          ],
          "histogram2dcontour": [
           {
            "colorbar": {
             "outlinewidth": 0,
             "ticks": ""
            },
            "colorscale": [
             [
              0,
              "#0d0887"
             ],
             [
              0.1111111111111111,
              "#46039f"
             ],
             [
              0.2222222222222222,
              "#7201a8"
             ],
             [
              0.3333333333333333,
              "#9c179e"
             ],
             [
              0.4444444444444444,
              "#bd3786"
             ],
             [
              0.5555555555555556,
              "#d8576b"
             ],
             [
              0.6666666666666666,
              "#ed7953"
             ],
             [
              0.7777777777777778,
              "#fb9f3a"
             ],
             [
              0.8888888888888888,
              "#fdca26"
             ],
             [
              1,
              "#f0f921"
             ]
            ],
            "type": "histogram2dcontour"
           }
          ],
          "mesh3d": [
           {
            "colorbar": {
             "outlinewidth": 0,
             "ticks": ""
            },
            "type": "mesh3d"
           }
          ],
          "parcoords": [
           {
            "line": {
             "colorbar": {
              "outlinewidth": 0,
              "ticks": ""
             }
            },
            "type": "parcoords"
           }
          ],
          "pie": [
           {
            "automargin": true,
            "type": "pie"
           }
          ],
          "scatter": [
           {
            "fillpattern": {
             "fillmode": "overlay",
             "size": 10,
             "solidity": 0.2
            },
            "type": "scatter"
           }
          ],
          "scatter3d": [
           {
            "line": {
             "colorbar": {
              "outlinewidth": 0,
              "ticks": ""
             }
            },
            "marker": {
             "colorbar": {
              "outlinewidth": 0,
              "ticks": ""
             }
            },
            "type": "scatter3d"
           }
          ],
          "scattercarpet": [
           {
            "marker": {
             "colorbar": {
              "outlinewidth": 0,
              "ticks": ""
             }
            },
            "type": "scattercarpet"
           }
          ],
          "scattergeo": [
           {
            "marker": {
             "colorbar": {
              "outlinewidth": 0,
              "ticks": ""
             }
            },
            "type": "scattergeo"
           }
          ],
          "scattergl": [
           {
            "marker": {
             "colorbar": {
              "outlinewidth": 0,
              "ticks": ""
             }
            },
            "type": "scattergl"
           }
          ],
          "scattermapbox": [
           {
            "marker": {
             "colorbar": {
              "outlinewidth": 0,
              "ticks": ""
             }
            },
            "type": "scattermapbox"
           }
          ],
          "scatterpolar": [
           {
            "marker": {
             "colorbar": {
              "outlinewidth": 0,
              "ticks": ""
             }
            },
            "type": "scatterpolar"
           }
          ],
          "scatterpolargl": [
           {
            "marker": {
             "colorbar": {
              "outlinewidth": 0,
              "ticks": ""
             }
            },
            "type": "scatterpolargl"
           }
          ],
          "scatterternary": [
           {
            "marker": {
             "colorbar": {
              "outlinewidth": 0,
              "ticks": ""
             }
            },
            "type": "scatterternary"
           }
          ],
          "surface": [
           {
            "colorbar": {
             "outlinewidth": 0,
             "ticks": ""
            },
            "colorscale": [
             [
              0,
              "#0d0887"
             ],
             [
              0.1111111111111111,
              "#46039f"
             ],
             [
              0.2222222222222222,
              "#7201a8"
             ],
             [
              0.3333333333333333,
              "#9c179e"
             ],
             [
              0.4444444444444444,
              "#bd3786"
             ],
             [
              0.5555555555555556,
              "#d8576b"
             ],
             [
              0.6666666666666666,
              "#ed7953"
             ],
             [
              0.7777777777777778,
              "#fb9f3a"
             ],
             [
              0.8888888888888888,
              "#fdca26"
             ],
             [
              1,
              "#f0f921"
             ]
            ],
            "type": "surface"
           }
          ],
          "table": [
           {
            "cells": {
             "fill": {
              "color": "#EBF0F8"
             },
             "line": {
              "color": "white"
             }
            },
            "header": {
             "fill": {
              "color": "#C8D4E3"
             },
             "line": {
              "color": "white"
             }
            },
            "type": "table"
           }
          ]
         },
         "layout": {
          "annotationdefaults": {
           "arrowcolor": "#2a3f5f",
           "arrowhead": 0,
           "arrowwidth": 1
          },
          "autotypenumbers": "strict",
          "coloraxis": {
           "colorbar": {
            "outlinewidth": 0,
            "ticks": ""
           }
          },
          "colorscale": {
           "diverging": [
            [
             0,
             "#8e0152"
            ],
            [
             0.1,
             "#c51b7d"
            ],
            [
             0.2,
             "#de77ae"
            ],
            [
             0.3,
             "#f1b6da"
            ],
            [
             0.4,
             "#fde0ef"
            ],
            [
             0.5,
             "#f7f7f7"
            ],
            [
             0.6,
             "#e6f5d0"
            ],
            [
             0.7,
             "#b8e186"
            ],
            [
             0.8,
             "#7fbc41"
            ],
            [
             0.9,
             "#4d9221"
            ],
            [
             1,
             "#276419"
            ]
           ],
           "sequential": [
            [
             0,
             "#0d0887"
            ],
            [
             0.1111111111111111,
             "#46039f"
            ],
            [
             0.2222222222222222,
             "#7201a8"
            ],
            [
             0.3333333333333333,
             "#9c179e"
            ],
            [
             0.4444444444444444,
             "#bd3786"
            ],
            [
             0.5555555555555556,
             "#d8576b"
            ],
            [
             0.6666666666666666,
             "#ed7953"
            ],
            [
             0.7777777777777778,
             "#fb9f3a"
            ],
            [
             0.8888888888888888,
             "#fdca26"
            ],
            [
             1,
             "#f0f921"
            ]
           ],
           "sequentialminus": [
            [
             0,
             "#0d0887"
            ],
            [
             0.1111111111111111,
             "#46039f"
            ],
            [
             0.2222222222222222,
             "#7201a8"
            ],
            [
             0.3333333333333333,
             "#9c179e"
            ],
            [
             0.4444444444444444,
             "#bd3786"
            ],
            [
             0.5555555555555556,
             "#d8576b"
            ],
            [
             0.6666666666666666,
             "#ed7953"
            ],
            [
             0.7777777777777778,
             "#fb9f3a"
            ],
            [
             0.8888888888888888,
             "#fdca26"
            ],
            [
             1,
             "#f0f921"
            ]
           ]
          },
          "colorway": [
           "#636efa",
           "#EF553B",
           "#00cc96",
           "#ab63fa",
           "#FFA15A",
           "#19d3f3",
           "#FF6692",
           "#B6E880",
           "#FF97FF",
           "#FECB52"
          ],
          "font": {
           "color": "#2a3f5f"
          },
          "geo": {
           "bgcolor": "white",
           "lakecolor": "white",
           "landcolor": "#E5ECF6",
           "showlakes": true,
           "showland": true,
           "subunitcolor": "white"
          },
          "hoverlabel": {
           "align": "left"
          },
          "hovermode": "closest",
          "mapbox": {
           "style": "light"
          },
          "paper_bgcolor": "white",
          "plot_bgcolor": "#E5ECF6",
          "polar": {
           "angularaxis": {
            "gridcolor": "white",
            "linecolor": "white",
            "ticks": ""
           },
           "bgcolor": "#E5ECF6",
           "radialaxis": {
            "gridcolor": "white",
            "linecolor": "white",
            "ticks": ""
           }
          },
          "scene": {
           "xaxis": {
            "backgroundcolor": "#E5ECF6",
            "gridcolor": "white",
            "gridwidth": 2,
            "linecolor": "white",
            "showbackground": true,
            "ticks": "",
            "zerolinecolor": "white"
           },
           "yaxis": {
            "backgroundcolor": "#E5ECF6",
            "gridcolor": "white",
            "gridwidth": 2,
            "linecolor": "white",
            "showbackground": true,
            "ticks": "",
            "zerolinecolor": "white"
           },
           "zaxis": {
            "backgroundcolor": "#E5ECF6",
            "gridcolor": "white",
            "gridwidth": 2,
            "linecolor": "white",
            "showbackground": true,
            "ticks": "",
            "zerolinecolor": "white"
           }
          },
          "shapedefaults": {
           "line": {
            "color": "#2a3f5f"
           }
          },
          "ternary": {
           "aaxis": {
            "gridcolor": "white",
            "linecolor": "white",
            "ticks": ""
           },
           "baxis": {
            "gridcolor": "white",
            "linecolor": "white",
            "ticks": ""
           },
           "bgcolor": "#E5ECF6",
           "caxis": {
            "gridcolor": "white",
            "linecolor": "white",
            "ticks": ""
           }
          },
          "title": {
           "x": 0.05
          },
          "xaxis": {
           "automargin": true,
           "gridcolor": "white",
           "linecolor": "white",
           "ticks": "",
           "title": {
            "standoff": 15
           },
           "zerolinecolor": "white",
           "zerolinewidth": 2
          },
          "yaxis": {
           "automargin": true,
           "gridcolor": "white",
           "linecolor": "white",
           "ticks": "",
           "title": {
            "standoff": 15
           },
           "zerolinecolor": "white",
           "zerolinewidth": 2
          }
         }
        },
        "title": {
         "text": "Gattungsverteilung nach Geschlecht"
        }
       }
      },
      "text/html": [
       "<div>                            <div id=\"5c4f4eda-363f-4f38-9eae-f17d02972607\" class=\"plotly-graph-div\" style=\"height:525px; width:100%;\"></div>            <script type=\"text/javascript\">                require([\"plotly\"], function(Plotly) {                    window.PLOTLYENV=window.PLOTLYENV || {};                                    if (document.getElementById(\"5c4f4eda-363f-4f38-9eae-f17d02972607\")) {                    Plotly.newPlot(                        \"5c4f4eda-363f-4f38-9eae-f17d02972607\",                        [{\"hole\":0.3,\"labels\":[\"Musik\",\"Epik\",\"Lyrik\",\"Drama\",\"Kunst\",\"Film\",\"Andere\"],\"values\":[229,157,50,32,29,5,3],\"type\":\"pie\",\"marker\":{\"colors\":[\"#DDBFA9\",\"#FF9642\",\"#00CED1\",\"#ECD540\",\"#FFC0CB\",\"#FFFF66\",\"#85e0db\",\"#FF7F50\",\"#98FB98\",\"#87CEEB\",\"#8BD3E6\",\"#E6E6FA\",\"#98FB98\",\"#FA8072\",\"#CCCCFF\",\"#FFFACD\",\"#008080\",\"#FFFDD0\",\"#C8A2C8\",\"#F0FFF0\",\"#FADADD\"]}}],                        {\"template\":{\"data\":{\"histogram2dcontour\":[{\"type\":\"histogram2dcontour\",\"colorbar\":{\"outlinewidth\":0,\"ticks\":\"\"},\"colorscale\":[[0.0,\"#0d0887\"],[0.1111111111111111,\"#46039f\"],[0.2222222222222222,\"#7201a8\"],[0.3333333333333333,\"#9c179e\"],[0.4444444444444444,\"#bd3786\"],[0.5555555555555556,\"#d8576b\"],[0.6666666666666666,\"#ed7953\"],[0.7777777777777778,\"#fb9f3a\"],[0.8888888888888888,\"#fdca26\"],[1.0,\"#f0f921\"]]}],\"choropleth\":[{\"type\":\"choropleth\",\"colorbar\":{\"outlinewidth\":0,\"ticks\":\"\"}}],\"histogram2d\":[{\"type\":\"histogram2d\",\"colorbar\":{\"outlinewidth\":0,\"ticks\":\"\"},\"colorscale\":[[0.0,\"#0d0887\"],[0.1111111111111111,\"#46039f\"],[0.2222222222222222,\"#7201a8\"],[0.3333333333333333,\"#9c179e\"],[0.4444444444444444,\"#bd3786\"],[0.5555555555555556,\"#d8576b\"],[0.6666666666666666,\"#ed7953\"],[0.7777777777777778,\"#fb9f3a\"],[0.8888888888888888,\"#fdca26\"],[1.0,\"#f0f921\"]]}],\"heatmap\":[{\"type\":\"heatmap\",\"colorbar\":{\"outlinewidth\":0,\"ticks\":\"\"},\"colorscale\":[[0.0,\"#0d0887\"],[0.1111111111111111,\"#46039f\"],[0.2222222222222222,\"#7201a8\"],[0.3333333333333333,\"#9c179e\"],[0.4444444444444444,\"#bd3786\"],[0.5555555555555556,\"#d8576b\"],[0.6666666666666666,\"#ed7953\"],[0.7777777777777778,\"#fb9f3a\"],[0.8888888888888888,\"#fdca26\"],[1.0,\"#f0f921\"]]}],\"heatmapgl\":[{\"type\":\"heatmapgl\",\"colorbar\":{\"outlinewidth\":0,\"ticks\":\"\"},\"colorscale\":[[0.0,\"#0d0887\"],[0.1111111111111111,\"#46039f\"],[0.2222222222222222,\"#7201a8\"],[0.3333333333333333,\"#9c179e\"],[0.4444444444444444,\"#bd3786\"],[0.5555555555555556,\"#d8576b\"],[0.6666666666666666,\"#ed7953\"],[0.7777777777777778,\"#fb9f3a\"],[0.8888888888888888,\"#fdca26\"],[1.0,\"#f0f921\"]]}],\"contourcarpet\":[{\"type\":\"contourcarpet\",\"colorbar\":{\"outlinewidth\":0,\"ticks\":\"\"}}],\"contour\":[{\"type\":\"contour\",\"colorbar\":{\"outlinewidth\":0,\"ticks\":\"\"},\"colorscale\":[[0.0,\"#0d0887\"],[0.1111111111111111,\"#46039f\"],[0.2222222222222222,\"#7201a8\"],[0.3333333333333333,\"#9c179e\"],[0.4444444444444444,\"#bd3786\"],[0.5555555555555556,\"#d8576b\"],[0.6666666666666666,\"#ed7953\"],[0.7777777777777778,\"#fb9f3a\"],[0.8888888888888888,\"#fdca26\"],[1.0,\"#f0f921\"]]}],\"surface\":[{\"type\":\"surface\",\"colorbar\":{\"outlinewidth\":0,\"ticks\":\"\"},\"colorscale\":[[0.0,\"#0d0887\"],[0.1111111111111111,\"#46039f\"],[0.2222222222222222,\"#7201a8\"],[0.3333333333333333,\"#9c179e\"],[0.4444444444444444,\"#bd3786\"],[0.5555555555555556,\"#d8576b\"],[0.6666666666666666,\"#ed7953\"],[0.7777777777777778,\"#fb9f3a\"],[0.8888888888888888,\"#fdca26\"],[1.0,\"#f0f921\"]]}],\"mesh3d\":[{\"type\":\"mesh3d\",\"colorbar\":{\"outlinewidth\":0,\"ticks\":\"\"}}],\"scatter\":[{\"fillpattern\":{\"fillmode\":\"overlay\",\"size\":10,\"solidity\":0.2},\"type\":\"scatter\"}],\"parcoords\":[{\"type\":\"parcoords\",\"line\":{\"colorbar\":{\"outlinewidth\":0,\"ticks\":\"\"}}}],\"scatterpolargl\":[{\"type\":\"scatterpolargl\",\"marker\":{\"colorbar\":{\"outlinewidth\":0,\"ticks\":\"\"}}}],\"bar\":[{\"error_x\":{\"color\":\"#2a3f5f\"},\"error_y\":{\"color\":\"#2a3f5f\"},\"marker\":{\"line\":{\"color\":\"#E5ECF6\",\"width\":0.5},\"pattern\":{\"fillmode\":\"overlay\",\"size\":10,\"solidity\":0.2}},\"type\":\"bar\"}],\"scattergeo\":[{\"type\":\"scattergeo\",\"marker\":{\"colorbar\":{\"outlinewidth\":0,\"ticks\":\"\"}}}],\"scatterpolar\":[{\"type\":\"scatterpolar\",\"marker\":{\"colorbar\":{\"outlinewidth\":0,\"ticks\":\"\"}}}],\"histogram\":[{\"marker\":{\"pattern\":{\"fillmode\":\"overlay\",\"size\":10,\"solidity\":0.2}},\"type\":\"histogram\"}],\"scattergl\":[{\"type\":\"scattergl\",\"marker\":{\"colorbar\":{\"outlinewidth\":0,\"ticks\":\"\"}}}],\"scatter3d\":[{\"type\":\"scatter3d\",\"line\":{\"colorbar\":{\"outlinewidth\":0,\"ticks\":\"\"}},\"marker\":{\"colorbar\":{\"outlinewidth\":0,\"ticks\":\"\"}}}],\"scattermapbox\":[{\"type\":\"scattermapbox\",\"marker\":{\"colorbar\":{\"outlinewidth\":0,\"ticks\":\"\"}}}],\"scatterternary\":[{\"type\":\"scatterternary\",\"marker\":{\"colorbar\":{\"outlinewidth\":0,\"ticks\":\"\"}}}],\"scattercarpet\":[{\"type\":\"scattercarpet\",\"marker\":{\"colorbar\":{\"outlinewidth\":0,\"ticks\":\"\"}}}],\"carpet\":[{\"aaxis\":{\"endlinecolor\":\"#2a3f5f\",\"gridcolor\":\"white\",\"linecolor\":\"white\",\"minorgridcolor\":\"white\",\"startlinecolor\":\"#2a3f5f\"},\"baxis\":{\"endlinecolor\":\"#2a3f5f\",\"gridcolor\":\"white\",\"linecolor\":\"white\",\"minorgridcolor\":\"white\",\"startlinecolor\":\"#2a3f5f\"},\"type\":\"carpet\"}],\"table\":[{\"cells\":{\"fill\":{\"color\":\"#EBF0F8\"},\"line\":{\"color\":\"white\"}},\"header\":{\"fill\":{\"color\":\"#C8D4E3\"},\"line\":{\"color\":\"white\"}},\"type\":\"table\"}],\"barpolar\":[{\"marker\":{\"line\":{\"color\":\"#E5ECF6\",\"width\":0.5},\"pattern\":{\"fillmode\":\"overlay\",\"size\":10,\"solidity\":0.2}},\"type\":\"barpolar\"}],\"pie\":[{\"automargin\":true,\"type\":\"pie\"}]},\"layout\":{\"autotypenumbers\":\"strict\",\"colorway\":[\"#636efa\",\"#EF553B\",\"#00cc96\",\"#ab63fa\",\"#FFA15A\",\"#19d3f3\",\"#FF6692\",\"#B6E880\",\"#FF97FF\",\"#FECB52\"],\"font\":{\"color\":\"#2a3f5f\"},\"hovermode\":\"closest\",\"hoverlabel\":{\"align\":\"left\"},\"paper_bgcolor\":\"white\",\"plot_bgcolor\":\"#E5ECF6\",\"polar\":{\"bgcolor\":\"#E5ECF6\",\"angularaxis\":{\"gridcolor\":\"white\",\"linecolor\":\"white\",\"ticks\":\"\"},\"radialaxis\":{\"gridcolor\":\"white\",\"linecolor\":\"white\",\"ticks\":\"\"}},\"ternary\":{\"bgcolor\":\"#E5ECF6\",\"aaxis\":{\"gridcolor\":\"white\",\"linecolor\":\"white\",\"ticks\":\"\"},\"baxis\":{\"gridcolor\":\"white\",\"linecolor\":\"white\",\"ticks\":\"\"},\"caxis\":{\"gridcolor\":\"white\",\"linecolor\":\"white\",\"ticks\":\"\"}},\"coloraxis\":{\"colorbar\":{\"outlinewidth\":0,\"ticks\":\"\"}},\"colorscale\":{\"sequential\":[[0.0,\"#0d0887\"],[0.1111111111111111,\"#46039f\"],[0.2222222222222222,\"#7201a8\"],[0.3333333333333333,\"#9c179e\"],[0.4444444444444444,\"#bd3786\"],[0.5555555555555556,\"#d8576b\"],[0.6666666666666666,\"#ed7953\"],[0.7777777777777778,\"#fb9f3a\"],[0.8888888888888888,\"#fdca26\"],[1.0,\"#f0f921\"]],\"sequentialminus\":[[0.0,\"#0d0887\"],[0.1111111111111111,\"#46039f\"],[0.2222222222222222,\"#7201a8\"],[0.3333333333333333,\"#9c179e\"],[0.4444444444444444,\"#bd3786\"],[0.5555555555555556,\"#d8576b\"],[0.6666666666666666,\"#ed7953\"],[0.7777777777777778,\"#fb9f3a\"],[0.8888888888888888,\"#fdca26\"],[1.0,\"#f0f921\"]],\"diverging\":[[0,\"#8e0152\"],[0.1,\"#c51b7d\"],[0.2,\"#de77ae\"],[0.3,\"#f1b6da\"],[0.4,\"#fde0ef\"],[0.5,\"#f7f7f7\"],[0.6,\"#e6f5d0\"],[0.7,\"#b8e186\"],[0.8,\"#7fbc41\"],[0.9,\"#4d9221\"],[1,\"#276419\"]]},\"xaxis\":{\"gridcolor\":\"white\",\"linecolor\":\"white\",\"ticks\":\"\",\"title\":{\"standoff\":15},\"zerolinecolor\":\"white\",\"automargin\":true,\"zerolinewidth\":2},\"yaxis\":{\"gridcolor\":\"white\",\"linecolor\":\"white\",\"ticks\":\"\",\"title\":{\"standoff\":15},\"zerolinecolor\":\"white\",\"automargin\":true,\"zerolinewidth\":2},\"scene\":{\"xaxis\":{\"backgroundcolor\":\"#E5ECF6\",\"gridcolor\":\"white\",\"linecolor\":\"white\",\"showbackground\":true,\"ticks\":\"\",\"zerolinecolor\":\"white\",\"gridwidth\":2},\"yaxis\":{\"backgroundcolor\":\"#E5ECF6\",\"gridcolor\":\"white\",\"linecolor\":\"white\",\"showbackground\":true,\"ticks\":\"\",\"zerolinecolor\":\"white\",\"gridwidth\":2},\"zaxis\":{\"backgroundcolor\":\"#E5ECF6\",\"gridcolor\":\"white\",\"linecolor\":\"white\",\"showbackground\":true,\"ticks\":\"\",\"zerolinecolor\":\"white\",\"gridwidth\":2}},\"shapedefaults\":{\"line\":{\"color\":\"#2a3f5f\"}},\"annotationdefaults\":{\"arrowcolor\":\"#2a3f5f\",\"arrowhead\":0,\"arrowwidth\":1},\"geo\":{\"bgcolor\":\"white\",\"landcolor\":\"#E5ECF6\",\"subunitcolor\":\"white\",\"showland\":true,\"showlakes\":true,\"lakecolor\":\"white\"},\"title\":{\"x\":0.05},\"mapbox\":{\"style\":\"light\"}}},\"title\":{\"text\":\"Gattungsverteilung nach Geschlecht\"},\"annotations\":[{\"showarrow\":false,\"text\":\"M\\u00e4nnlich\",\"x\":0.2,\"y\":0.5,\"font\":{\"size\":12}},{\"showarrow\":false,\"text\":\"Weiblich\",\"x\":0.8,\"y\":0.5,\"font\":{\"size\":12}}]},                        {\"responsive\": true}                    ).then(function(){\n",
       "                            \n",
       "var gd = document.getElementById('5c4f4eda-363f-4f38-9eae-f17d02972607');\n",
       "var x = new MutationObserver(function (mutations, observer) {{\n",
       "        var display = window.getComputedStyle(gd).display;\n",
       "        if (!display || display === 'none') {{\n",
       "            console.log([gd, 'removed!']);\n",
       "            Plotly.purge(gd);\n",
       "            observer.disconnect();\n",
       "        }}\n",
       "}});\n",
       "\n",
       "// Listen for the removal of the full notebook cells\n",
       "var notebookContainer = gd.closest('#notebook-container');\n",
       "if (notebookContainer) {{\n",
       "    x.observe(notebookContainer, {childList: true});\n",
       "}}\n",
       "\n",
       "// Listen for the clearing of the current output cell\n",
       "var outputEl = gd.closest('.output');\n",
       "if (outputEl) {{\n",
       "    x.observe(outputEl, {childList: true});\n",
       "}}\n",
       "\n",
       "                        })                };                });            </script>        </div>"
      ]
     },
     "metadata": {},
     "output_type": "display_data"
    }
   ],
   "source": [
    "# Top 11 Länder Zusatz - für Thema 2 (Gattungsverteilung)\n",
    "unique_authors = df.drop_duplicates(subset=[\"Autor\", \"Geschlecht\", \"Nationalität\", \"Gattung\"])\n",
    "# Anzahl der einzelnen Autor*innen pro Gattung zählen\n",
    "genre_counts = unique_authors[\"Gattung\"].value_counts()\n",
    "# Farbsequenz für die Diagramme\n",
    "colors = [\"#DDBFA9\", \"#FF9642\", \"#00CED1\", \"#ECD540\", \"#FFC0CB\", \"#FFFF66\", \"#85e0db\",\n",
    "          \"#FF7F50\", \"#98FB98\", \"#87CEEB\", \"#8BD3E6\", \"#E6E6FA\", \"#98FB98\", \"#FA8072\",\n",
    "          \"#CCCCFF\", \"#FFFACD\", \"#008080\", \"#FFFDD0\", \"#C8A2C8\", \"#F0FFF0\", \"#FADADD\"]\n",
    "# Kreisdiagramm erstellen\n",
    "fig = go.Figure(data=go.Pie(labels=genre_counts.index, values=genre_counts.values, hole=0.3))\n",
    "# Layout anpassen\n",
    "fig.update_layout(\n",
    "    title=\"Gattungsverteilung nach Geschlecht\",  # Titel\n",
    "    annotations=[  # Textgestaltung und -positionierung, Pfeil/Strich nicht anzeigen\n",
    "        dict(text=\"Männlich\", x=0.2, y=0.5, font_size=12, showarrow=False),\n",
    "        dict(text=\"Weiblich\", x=0.8, y=0.5, font_size=12, showarrow=False)\n",
    "    ]\n",
    ")\n",
    "fig.update_traces(marker=dict(colors=colors))  # Farben aktualisieren"
   ]
  },
  {
   "cell_type": "markdown",
   "id": "4de993e9",
   "metadata": {},
   "source": [
    "Zusätzlich werden noch die Ländernamen mit ISO-Ländercodes und die Städtenamen mit Koordinaten verbunden."
   ]
  },
  {
   "cell_type": "code",
   "execution_count": 17,
   "id": "55813861",
   "metadata": {},
   "outputs": [],
   "source": [
    "# Ländernamen aus Excel-Tabelle und ISO-Ländercodes kombinieren\n",
    "country_mapping = {\n",
    "    \"Argentinien\": \"ARG\",\n",
    "    \"Armenien\": \"ARM\",\n",
    "    \"Australien\": \"AUS\",\n",
    "    \"Belarus\": \"BLR\",\n",
    "    \"Belgien\": \"BEL\",\n",
    "    \"Bulgarien\": \"BGR\",\n",
    "    \"Dänemark\": \"DNK\",\n",
    "    \"Deutschland\": \"DEU\",\n",
    "    \"Dominikanische Republik\": \"DOM\",\n",
    "    \"Estland\": \"EST\",\n",
    "    \"Finnland\": \"FIN\",\n",
    "    \"Frankreich\": \"FRA\",\n",
    "    \"Griechenland\": \"GRC\",\n",
    "    \"Iran\": \"IRN\",\n",
    "    \"Irland\": \"IRL\",\n",
    "    \"Island\": \"ISL\",\n",
    "    \"Israel\": \"ISR\",\n",
    "    \"Italien\": \"ITA\",\n",
    "    \"Japan\": \"JPN\",\n",
    "    \"Kanada\": \"CAN\",\n",
    "    \"Kroatien\": \"HRV\",\n",
    "    \"Kuba\": \"CUB\",\n",
    "    \"Liechtenstein\": \"LIE\",\n",
    "    \"Litauen\": \"LTU\",\n",
    "    \"Luxemburg\": \"LUX\",\n",
    "    \"Mexiko\": \"MEX\",\n",
    "    \"Niederlande\": \"NLD\",\n",
    "    \"Norwegen\": \"NOR\",\n",
    "    \"Österreich\": \"AUT\",\n",
    "    \"Palästina\": \"PSE\",\n",
    "    \"Polen\": \"POL\",\n",
    "    \"Rumänien\": \"ROU\",\n",
    "    \"Russland\": \"RUS\",\n",
    "    \"Schweden\": \"SWE\",\n",
    "    \"Schweiz\": \"CHE\",\n",
    "    \"Serbien\": \"SRB\",\n",
    "    \"Slovakei\": \"SVK\",\n",
    "    \"Slovenien\": \"SVN\",\n",
    "    \"Spanien\": \"ESP\",\n",
    "    \"Syrien\": \"SYR\",\n",
    "    \"Südkorea\": \"KOR\",\n",
    "    \"Türkei\": \"TUR\",\n",
    "    \"Tschechien\": \"CZE\",\n",
    "    \"Ukraine\": \"UKR\",\n",
    "    \"Ungarn\": \"HUN\",\n",
    "    \"Vatikan\": \"VAT\",\n",
    "    \"Vereinigte Staaten\": \"USA\",\n",
    "    \"Vereinigtes Königreich\": \"GBR\"\n",
    "}\n",
    "\n",
    "# Städtenamen des Datensatzes mit Koordinaten der Städte verknüpfen\n",
    "city_coordinates = {\n",
    "    \"Berlin\": (52.5200, 13.4050),\n",
    "    \"München\": (48.1372, 11.5755),\n",
    "    \"Leipzig\": (51.3396, 12.3713),\n",
    "    \"Hamburg\": (53.5511, 9.9937),\n",
    "    \"Köln\": (50.9375, 6.9603),\n",
    "    \"Frankfurt am Main\": (50.1109, 8.6821),\n",
    "    \"Dresden\": (51.0504, 13.7373),\n",
    "    \"Freiburg im Breisgau\": (47.9990, 7.8421),\n",
    "    \"Halle (Saale)\": (51.4826, 11.9646),\n",
    "    \"Heidelberg\": (49.3988, 8.6724)\n",
    "}"
   ]
  },
  {
   "cell_type": "markdown",
   "id": "bd364a01",
   "metadata": {},
   "source": [
    "Hier wird nun der Befehl gegeben, die Dash-Applikation zu starten."
   ]
  },
  {
   "cell_type": "code",
   "execution_count": 18,
   "id": "faeda480",
   "metadata": {},
   "outputs": [],
   "source": [
    "# Erstelle Dash-App\n",
    "# App wird als Dash-App erstellt\n",
    "app = dash.Dash(__name__, assets_folder=\"assets\")\n",
    "\n",
    "# Setze die Konfiguration, um Callback-Ausnahmen zu unterdrücken\n",
    "app.config.suppress_callback_exceptions = True"
   ]
  },
  {
   "cell_type": "markdown",
   "id": "435b204a",
   "metadata": {},
   "source": [
    "Das App-Layout dieser dash-Anwendung legt die Anordnung und Struktur der verschiedenen eingebundenen Elemente fest. Somit bestimmt es, auf welche Art und Weise die Inhalte dargestellt werden sollen. Sie besteht nämlich aus verschiedenen Abschnitten und Seiten, die jeweils eine spezifische Funktion und/oder Information beinhalten. Durch die besondere Menüstruktur werden die Elemente dabei nach unseren Angaben organisiert, sodass die Benutzeroberfläche interaktiv und navigierbar gestaltet wird. \n",
    "Zur besseren Organisation und Verschönerung der Anwendung wurden zudem HTML-Div-Container in den Code integriert. Dabei handelt es sich um grundlegende Bausteine zur Strukturierung von Webseiten, indem sie verschiedene Inhalte zusammen gruppieren. Diese Container werden dann mithilfe eines CSS-Stylesheets gestaltet und angepasst. Jede html.Div-Instanz definiert somit einen Bereich, der andere Elemente wie Buttons (html.Button) oder Dropdown-Menüs (dcc.Dropdown) enthalten kann. Die Klassenattribute in den Div-Elementen verweisen auf entsprechende CSS-Klassen, die das Styling dieser Elemente definieren.\n",
    "Das visuelle Erscheinungsbild kann auf diese Art und Weise je nach Bedürfnis geändert werden."
   ]
  },
  {
   "cell_type": "code",
   "execution_count": 19,
   "id": "ad20692d",
   "metadata": {},
   "outputs": [],
   "source": [
    "# Hauptmenü Layout\n",
    "# Div-Container mit Hauptmenü-Elementen wird erstellt\n",
    "main_menu_layout = html.Div([\n",
    "\n",
    "    # Überschrift \"Werktitel Projekt\" wird erstellt und gestaltet\n",
    "    html.H1(\"Werktitel Projekt\", className=\"header\"),\n",
    "\n",
    "    # Div-Container mit Buttons für verschiedene Themen wird erstellt\n",
    "    html.Div([\n",
    "\n",
    "        # Button \"Werksuche\" wird erstellt und gestaltet\n",
    "        html.Button(\"Werksuche\", id=\"button-theme1\", className=\"topnav button\"),\n",
    "\n",
    "        # Button \"Gattungsverteilung\" wird erstellt und gestaltet\n",
    "        html.Button(\"Gattungsverteilung\", id=\"button-theme2\", className=\"topnav button\"),\n",
    "\n",
    "        # Button \"Karte der deutschen Städte\" wird erstellt und gestaltet\n",
    "        html.Button(\"Karte der deutschen Städte\", id=\"button-theme3\", className=\"topnav button\"),\n",
    "\n",
    "        # Button \"Weltkarte\" wird erstellt und gestaltet\n",
    "        html.Button(\"Weltkarte\", id=\"button-theme4\", className=\"topnav button\"),\n",
    "\n",
    "        # Button \"Kreisdiagramme\" wird erstellt\n",
    "        html.Button(\"Kreisdiagramme\", id=\"button-theme5\", className=\"topnav\"),\n",
    "\n",
    "        # Button \"Balkendiagramme\" wird erstellt\n",
    "        html.Button(\"Balkendiagramme\", id=\"button-theme6\", className=\"topnav\")\n",
    "    ], className=\"topnav\"),  # Stil für den Div-Container wird definiert\n",
    "\n",
    "    # Untere Überschrift \"Über das Projekt\" wird erstellt und gestaltet\n",
    "    html.H3(\"Über das Projekt\", className=\"footer\"),\n",
    "\n",
    "    html.Div([\n",
    "        \"Herzlich Willkommen! Wir haben den Datensatz \\\"Werktitel als Wissensraum\\\" vom DLA Marbach und der\",\n",
    "        html.Br(),\n",
    "        \"Herzogin Anna Amalia Bibliothek zur Verfügung gestellt bekommen, analysiert und visualisiert.\"\n",
    "    ], className=\"p\"),\n",
    "\n",
    "    # Bild wird mit Quelle, Alternativtext und Stil erstellt\n",
    "    html.Img(\n",
    "        src=\"https://upload.wikimedia.org/wikipedia/commons/thumb/4/44/Johann_Heinrich_Wilhelm_Tischbein_-_Goethe_in_der_roemischen_Campagna.jpg/1024px-Johann_Heinrich_Wilhelm_Tischbein_-_Goethe_in_der_roemischen_Campagna.jpg\",\n",
    "        alt=\"Goethe\",\n",
    "        className=\"bild\"),\n",
    "\n",
    "    # Div-Container mit Text und Stil wird erstellt\n",
    "    html.Div(\"Goethe in Italien\",\n",
    "             className=\"bildunterschrift\"),\n",
    "\n",
    "\n",
    "    # Div-Container der Fußzeile wird erstellt\n",
    "    html.Div([\n",
    "        html.P(\"Erstellt von Aylin Acilanmak, Martina Schorsten & Christin Walter | © 2023\", className=\"textfusszeile\")\n",
    "    ], className=\"fußzeile\")\n",
    "])"
   ]
  },
  {
   "cell_type": "markdown",
   "id": "7a49e3c8",
   "metadata": {},
   "source": [
    "Im Folgenden wird das Thema 1 erstellt, das dem/der Nutzer\\*in die Werksuche ermöglichen wird. Wichtig ist, dass der Name eines/einer Autor\\*in genauso eingegeben wird wie in der Excel-Datei, da es sonst keine Treffer gibt. Dafür wurde einerseits String-Matching durch fuzzywuzzy integriert. Andererseits werden durch das Package random Suchvorschläge angezeigt."
   ]
  },
  {
   "cell_type": "code",
   "execution_count": 20,
   "id": "5b0fb069",
   "metadata": {},
   "outputs": [],
   "source": [
    "# Thema 1 - Werksuche Layout\n",
    "# Div-Container für Thema 1 wird erstellt\n",
    "theme1_layout = html.Div([\n",
    "\n",
    "    # Überschrift \"Hauptmenü\" wird erstellt und gestaltet\n",
    "    html.H1(\"Hauptmenü\", className=\"header\"),\n",
    "\n",
    "    # Div-Container mit Links und Buttons für verschiedene Themen wird erstellt\n",
    "    html.Div([\n",
    "\n",
    "        # Link \"Zurück zum Hauptmenü\" wird erstellt und gestaltet\n",
    "        html.A(\"Zurück zum Hauptmenü\", href=\"/\", className=\"topnav button button-link\"),\n",
    "\n",
    "        # Button \"Werksuche\" wird erstellt\n",
    "        html.Button(\"Werksuche\", id=\"button-theme1\", className=\"topnav\"),\n",
    "\n",
    "        # Button \"Gattungsverteilung\" wird erstellt\n",
    "        html.Button(\"Gattungsverteilung\", id=\"button-theme2\", className=\"topnav\"),\n",
    "\n",
    "        # Button \"Karte der deutschen Städte\" wird erstellt\n",
    "        html.Button(\"Karte der deutschen Städte\", id=\"button-theme3\", className=\"topnav\"),\n",
    "\n",
    "        # Button \"Weltkarte\" wird erstellt\n",
    "        html.Button(\"Weltkarte\", id=\"button-theme4\", className=\"topnav\"),\n",
    "\n",
    "        # Button \"Kreisdiagramme\" wird erstellt\n",
    "        html.Button(\"Kreisdiagramme\", id=\"button-theme5\", className=\"topnav\"),\n",
    "\n",
    "        # Button \"Balkendiagramme\" wird erstellt\n",
    "        html.Button(\"Balkendiagramme\", id=\"button-theme6\", className=\"topnav\")\n",
    "    ], className=\"topnav\"),  # Stil für den Div-Container wird definiert\n",
    "\n",
    "    # Weitere Überschrift \"Autor*innen und ihre Werke\" wird erstellt und gestaltet\n",
    "    html.H1(\"Autor*innen und ihre Werke\", className=\"Überschrift\"),\n",
    "\n",
    "    # Zeilenumbruch wird eingefügt\n",
    "    html.Br(),\n",
    "\n",
    "    # Eingabefeld für Autorname wird erstellt und gestaltet\n",
    "    dcc.Input(id=\"autor-eingabe\", type=\"text\", placeholder=\"Namen eingeben\", className=\"input-field\"),\n",
    "\n",
    "    # Div-Container für Ausgabe wird erstellt\n",
    "    html.Div(id=\"ausgabe\", className=\"output-field\"),\n",
    "\n",
    "    # Div-Container der Fußzeile wird erstellt\n",
    "    html.Div([\n",
    "        html.P(\"Erstellt von Aylin Acilanmak, Martina Schorsten & Christin Walter | © 2023\",\n",
    "               id=\"fußzeile\",\n",
    "               className=\"fußzeile_2\")\n",
    "    ])\n",
    "])\n",
    "\n",
    "\n",
    "# Callback-Funktion, die auf Benutzerinteraktionen reagiert und Ausgabewerte für das Layout generiert\n",
    "@app.callback(\n",
    "    Output(\"ausgabe\", \"children\"),  # Definiert die Ausgabe, die in das \"ausgabe\" Element eingefügt wird\n",
    "    [Input(\"autor-eingabe\", \"value\")]  # Nimmt den Wert des Eingabefelds \"autor-eingabe\" als Input\n",
    ")\n",
    "def suche_titel(autorname):  # Funktion wird mit dem eingegebenen Autorname-Argument aufgerufen\n",
    "    if autorname:  # Wenn ein Autorname vorhanden ist\n",
    "        autorname = autorname.strip().lower()  # Leerzeichen entfernen und in Kleinbuchstaben konvertieren\n",
    "        # Datenframe nach dem eingegebenen Autornamen filtern\n",
    "        filtered_df2 = df2[df2[\"Autor\"].str.strip().str.lower() == autorname]\n",
    "        if filtered_df2.empty:  # Wenn keine exakte Übereinstimmung gefunden wurde\n",
    "            # Ähnliche Autorennamen basierend auf dem eingegebenen Namen suchen\n",
    "            aehnliche_autoren = process.extract(autorname, df2[\"Autor\"], limit=5)  # Limit der Vorschläge: 5\n",
    "            vorschlaege = [vorschlag[0] for vorschlag in aehnliche_autoren]  # Liste ähnlicher Autorennamen erstellen\n",
    "            vorschlaege = list(set(vorschlaege))  # Duplikate entfernen\n",
    "            if len(vorschlaege) == 0:  # Wenn keine ähnlichen Autorennamen gefunden wurden\n",
    "                return None  # Keine Ergebnisse zurückgeben\n",
    "            # Rückgabe einer Liste ähnlicher Autorennamen als HTML-Elemente\n",
    "            return html.Div([\n",
    "                html.P(\"Keine Titel gefunden. Ähnliche Namen:\"),\n",
    "                html.Ul([html.Li(vorschlag) for vorschlag in vorschlaege])\n",
    "            ])\n",
    "        else:  # Wenn exakte Übereinstimmung gefunden wurde\n",
    "            titel = filtered_df2[\"Titel\"]  # Titel des/der Autor*in aus dem gefilterten Dataframe extrahieren\n",
    "            anzahl_titel = len(titel)  # Anzahl der gefundenen Titel zählen\n",
    "            if anzahl_titel > 0:  # Wenn mindestens ein Titel gefunden wurde\n",
    "                # Titel in eine Liste von HTML-Listenelementen umwandeln und zurückgeben\n",
    "                titel_liste = [html.Li(t) for t in titel]\n",
    "                return [\n",
    "                    html.P(f\"Anzahl der Titel: {anzahl_titel}\"),  # Anzahl der gefundenen Titel anzeigen\n",
    "                    html.Ul(titel_liste)  # Liste der gefundenen Titel als HTML-Liste zurückgeben\n",
    "                ]\n",
    "            else:  # Wenn keine Titel gefunden wurden\n",
    "                return \"Keine Titel gefunden.\"\n",
    "    else:  # Wenn kein Autorname eingegeben wurde\n",
    "        autoren_liste = random.sample(df2[\"Autor\"].tolist(), 5)  # Zufällige Auswahl von 5 Autorennamen\n",
    "        return html.Div([\n",
    "            html.P(\"Hier wären ein paar Vorschläge von Autor*innen:\"),  # Nachricht für die zufälligen Autorennamen\n",
    "            html.Ul([html.Li(autor) for autor in autoren_liste])  # Zufällige Autorennamen als Liste zurückgeben\n",
    "        ])"
   ]
  },
  {
   "cell_type": "markdown",
   "id": "7ce084cd",
   "metadata": {},
   "source": [
    "Thema 2 befasst sich wie schon zuvor erwähnt mit der Gattungsverteilung nach Geschlecht in den elf Ländern, die am häufigsten im Datensatz vorkommen. Um die Darstellung der Diagramme und Karten zudem auch interaktiv darzustellen, wurden Dropdown-Menüs in die dash-Anwendung eingebaut. Bei Dropdown-Menüs handelt es sich um interaktive Elemente, die es den Benutzer\\*innen ermöglichen, aus einer Liste von Optionen auszuwählen. In unserer Anwendung wird zuerst eine Standardoption angezeigt, doch beim Klicken des Menüs erscheint eine Liste mit weiteren Auswahlmöglichkeiten. Beim Auswählen einer bestimmten Option oder Kombination von Optionen wird die visuelle Darstellung aktualisiert. Somit wird die gewünschte Information dargestellt.\n",
    "Diese Dropdown-Menüs werden in allen nun folgenden Themen verwendet.\n",
    "Sofern keine Daten in einer der Kategorien vorhanden sind, wird dies dem/der Nutzer\\*in mitgeteilt und er/sie wird gebeten, eine andere Kombination auszuwählen."
   ]
  },
  {
   "cell_type": "code",
   "execution_count": 21,
   "id": "5fd3007c",
   "metadata": {},
   "outputs": [],
   "source": [
    "# Thema 2 - Gattungsverteilung Layout\n",
    "# Div-Container für Thema 2 wird erstellt\n",
    "theme2_layout = html.Div([\n",
    "\n",
    "    # Überschrift \"Hauptmenü\" wird erstellt und gestaltet\n",
    "    html.H1(\"Hauptmenü\", className=\"header\"),\n",
    "\n",
    "    # Div-Container mit Links und Buttons für verschiedene Themen wird erstellt\n",
    "    html.Div([\n",
    "\n",
    "        # Link \"Zurück zum Hauptmenü\" wird erstellt und gestaltet\n",
    "        html.A(\"Zurück zum Hauptmenü\", href=\"/\", className=\"topnav button button-link\"),\n",
    "\n",
    "        # Buttons für verschiedene Themen werden erstellt\n",
    "        html.Button(\"Werksuche\", id=\"button-theme1\", className=\"topnav\"),\n",
    "        html.Button(\"Gattungsverteilung\", id=\"button-theme2\", className=\"topnav\"),\n",
    "        html.Button(\"Karte der deutschen Städte\", id=\"button-theme3\", className=\"topnav\"),\n",
    "        html.Button(\"Weltkarte\", id=\"button-theme4\", className=\"topnav\"),\n",
    "        html.Button(\"Kreisdiagramme\", id=\"button-theme5\", className=\"topnav\"),\n",
    "        html.Button(\"Balkendiagramme\", id=\"button-theme6\", className=\"topnav\")\n",
    "    ], className=\"topnav\"),  # Stil für den Div-Container wird definiert\n",
    "\n",
    "    # Weitere Überschrift \"Top 11 Länder: Gattungsverteilung nach Geschlecht\" wird erstellt und gestaltet\n",
    "    html.H1(\"Top 11 Länder: Gattungsverteilung nach Geschlecht\", className=\"Überschrift\"),\n",
    "\n",
    "    # Zeilenumbruch wird eingefügt\n",
    "    html.Br(),\n",
    "\n",
    "    # Dropdown-Menü für die Auswahl der Länder wird erstellt und gestaltet\n",
    "    html.P(\"Länder\", className=\"label\"),\n",
    "    dcc.Dropdown(\n",
    "        id=\"names\",\n",
    "        options=[\n",
    "            # Liste von Ländern und ihren Werten für das Dropdown-Menü\n",
    "            # Hier sind Beispiele von Ländern aufgeführt, die angepasst werden können\n",
    "            {\"label\": \"Deutschland\", \"value\": \"Deutschland\"},\n",
    "            {\"label\": \"Frankreich\", \"value\": \"Frankreich\"},\n",
    "            {\"label\": \"Österreich\", \"value\": \"Österreich\"},\n",
    "            {\"label\": \"Schweiz\", \"value\": \"Schweiz\"},\n",
    "            {\"label\": \"Vereinigte Staaten \", \"value\": \"Vereinigte Staaten\"},\n",
    "            {\"label\": \"Vereinigtes Königreich\", \"value\": \"Vereinigtes Königreich\"},\n",
    "            {\"label\": \"Österreich-Ungarn\", \"value\": \"Österreich-Ungarn\"},\n",
    "            {\"label\": \"Italien\", \"value\": \"Italien\"},\n",
    "            {\"label\": \"Russland\", \"value\": \"Russland\"},\n",
    "            {\"label\": \"Ungarn\", \"value\": \"Ungarn\"},\n",
    "            {\"label\": \"Dänemark\", \"value\": \"Dänemark\"}\n",
    "        ],\n",
    "        value=\"Deutschland\",  # Standardwert des Dropdown-Menüs\n",
    "        clearable=False,  # Möglichkeit, das Dropdown-Feld zu leeren, ist deaktiviert\n",
    "        className=\"dropdown\"  # Stil für das Dropdown-Menü wird definiert\n",
    "    ),\n",
    "\n",
    "    # Dropdown-Menü für die Auswahl des Geschlechts wird erstellt und gestaltet\n",
    "    html.Div([\n",
    "        html.Label([\"Geschlecht\"], className=\"label\"),  # Label für das Dropdown-Menü\n",
    "        dcc.Dropdown(\n",
    "            id=\"gender_dropdown\",\n",
    "            options=[\n",
    "                # Optionen für Geschlecht\n",
    "                {\"label\": \"Gesamt\", \"value\": \"Gesamt\"},\n",
    "                {\"label\": \"Männlich\", \"value\": \"Männlich\"},\n",
    "                {\"label\": \"Weiblich\", \"value\": \"Weiblich\"},\n",
    "            ],\n",
    "            value=\"Gesamt\",  # Standardwert des Dropdown-Menüs\n",
    "            multi=False,  # Es kann nur eine Option ausgewählt werden\n",
    "            clearable=False,  # Möglichkeit, das Dropdown-Feld zu leeren, ist deaktiviert\n",
    "            style={\"width\": \"50%\"},  # Stil für die Dropdown-Breite wird festgelegt\n",
    "            className=\"dropdown\"  # Stil für das Dropdown-Menü wird definiert\n",
    "        ),\n",
    "    ], className=\"dropdown-container\"),  # Stil für den Div-Container des Dropdown-Menüs wird definiert\n",
    "\n",
    "    # Zeilenumbruch wird eingefügt\n",
    "    html.Br(),\n",
    "\n",
    "    # Diagramm wird erstellt und gestaltet\n",
    "    dcc.Graph(id=\"graph\", className=\"chart\"),\n",
    "\n",
    "    # Div-Container der Fußzeile wird erstellt\n",
    "    html.Div([\n",
    "        html.P(\"Erstellt von Aylin Acilanmak, Martina Schorsten & Christin Walter | © 2023\",\n",
    "               id=\"fußzeile\",\n",
    "               className=\"fußzeile_2\")\n",
    "    ])\n",
    "])\n",
    "\n",
    "\n",
    "# Callback-Funktion, die ein Kreisdiagramm für ausgewählte Länder und Geschlechter generiert\n",
    "@app.callback(\n",
    "    Output(\"graph\", \"figure\"),  # Ausgabe des Kreisdiagramms in das \"graph\" Element\n",
    "    Input(\"names\", \"value\"), Input(\"gender_dropdown\", \"value\"),  # Eingaben für ausgewählte Länder und Geschlechter\n",
    ")\n",
    "def generate_chart(names, gender_dropdown):\n",
    "    # Daten basierend auf ausgewählten Optionen filtern\n",
    "    if names == \"Deutschland\":\n",
    "        filtered_data = unique_authors[unique_authors[\"Nationalität\"] == \"Deutschland\"]\n",
    "    elif names == \"Frankreich\":\n",
    "        filtered_data = unique_authors[unique_authors[\"Nationalität\"] == \"Frankreich\"]\n",
    "    elif names == \"Österreich\":\n",
    "        filtered_data = unique_authors[unique_authors[\"Nationalität\"] == \"Österreich\"]\n",
    "    elif names == \"Schweiz\":\n",
    "        filtered_data = unique_authors[unique_authors[\"Nationalität\"] == \"Schweiz\"]\n",
    "    elif names == \"Vereinigte Staaten \":\n",
    "        filtered_data = unique_authors[unique_authors[\"Nationalität\"] == \"Vereinigte Staaten \"]\n",
    "    elif names == \"Finnland\":\n",
    "        filtered_data = unique_authors[unique_authors[\"Nationalität\"] == \"Finnland\"]\n",
    "    elif names == \"Vereinigtes Königreich\":\n",
    "        filtered_data = unique_authors[unique_authors[\"Nationalität\"] == \"Vereinigtes Königreich\"]\n",
    "    elif names == \"Österreich-Ungarn\":\n",
    "        filtered_data = unique_authors[unique_authors[\"Nationalität\"] == \"Österreich-Ungarn\"]\n",
    "    elif names == \"Italien\":\n",
    "        filtered_data = unique_authors[unique_authors[\"Nationalität\"] == \"Italien\"]\n",
    "    elif names == \"Ungarn\":\n",
    "        filtered_data = unique_authors[unique_authors[\"Nationalität\"] == \"Ungarn\"]\n",
    "    elif names == \"Dänemark\":\n",
    "        filtered_data = unique_authors[unique_authors[\"Nationalität\"] == \"Dänemark\"]\n",
    "    else:\n",
    "        filtered_data = unique_authors  # Default: alle Daten werden verwendet\n",
    "\n",
    "    if gender_dropdown == \"Männlich\":\n",
    "        filtered_data = filtered_data[filtered_data[\"Geschlecht\"] == \"Männlich\"]\n",
    "    elif gender_dropdown == \"Weiblich\":\n",
    "        filtered_data = filtered_data[filtered_data[\"Geschlecht\"] == \"Weiblich\"]\n",
    "\n",
    "    # Gattungen zählen\n",
    "    genre_counts_filtered = filtered_data[\"Gattung\"].value_counts()\n",
    "\n",
    "    # Kreisdiagramm generieren\n",
    "    fig = go.Figure(data=go.Pie(labels=genre_counts_filtered.index, values=genre_counts_filtered.values, hole=0.3))\n",
    "    fig.update_layout(title=f\"Gattungsverteilung nach Geschlecht - {names}\")\n",
    "    fig.update_traces(marker=dict(colors=colors))\n",
    "\n",
    "    if genre_counts_filtered.empty:\n",
    "        fig = go.Figure()\n",
    "        fig.update_layout(\n",
    "            title=f\"Keine Daten verfügbar für {gender_dropdown} in {names}\",\n",
    "            showlegend=False\n",
    "        )\n",
    "        fig.add_annotation(\n",
    "            # Wenn keine Daten vorhanden sind, soll ein Hinweis erscheinen\n",
    "            text=\"Bitte wählen Sie eine andere Kombination aus.\",\n",
    "            xref=\"paper\",\n",
    "            yref=\"paper\",\n",
    "            x=0.5,\n",
    "            y=0.5,\n",
    "            showarrow=False,\n",
    "            font=dict(size=18)\n",
    "        )\n",
    "    else:\n",
    "        fig = go.Figure(data=go.Pie(labels=genre_counts_filtered.index, values=genre_counts_filtered.values, hole=0.3))\n",
    "        fig.update_layout(title=f\"Gattungsverteilung nach Geschlecht - {names}\")\n",
    "        fig.update_traces(marker=dict(colors=colors))\n",
    "\n",
    "    return fig  # Generiertes Kreisdiagramm zurückgeben"
   ]
  },
  {
   "cell_type": "markdown",
   "id": "4ccbc29d",
   "metadata": {},
   "source": [
    "Thema 3 zeigt die Verteilung der Autor\\*innen auf ausgewählte Städte in Deutschland."
   ]
  },
  {
   "cell_type": "code",
   "execution_count": 22,
   "id": "2313d83d",
   "metadata": {},
   "outputs": [],
   "source": [
    "# Thema 3 Layout\n",
    "# Div-Container für Thema 3 wird erstellt\n",
    "theme3_layout = html.Div([\n",
    "\n",
    "    # Überschrift \"Hauptmenü\" wird erstellt und gestaltet\n",
    "    html.H1(\"Hauptmenü\", className=\"header\"),\n",
    "\n",
    "    # Div-Container mit Links und Buttons für verschiedene Themen wird erstellt\n",
    "    html.Div([\n",
    "\n",
    "        # Link \"Zurück zum Hauptmenü\" wird erstellt und gestaltet\n",
    "        html.A(\"Zurück zum Hauptmenü\", href=\"/\", className=\"topnav button button-link\"),\n",
    "\n",
    "        # Buttons für verschiedene Themen werden erstellt\n",
    "        html.Button(\"Werksuche\", id=\"button-theme1\", className=\"topnav\"),\n",
    "        html.Button(\"Gattungsverteilung\", id=\"button-theme2\", className=\"topnav\"),\n",
    "        html.Button(\"Karte der deutschen Städte\", id=\"button-theme3\", className=\"topnav\"),\n",
    "        html.Button(\"Weltkarte\", id=\"button-theme4\", className=\"topnav\"),\n",
    "        html.Button(\"Kreisdiagramme\", id=\"button-theme5\", className=\"topnav\"),\n",
    "        html.Button(\"Balkendiagramme\", id=\"button-theme6\", className=\"topnav\")\n",
    "    ], className=\"topnav\"),  # Stil für den Div-Container wird definiert\n",
    "\n",
    "    # Weitere Überschrift \"Verteilung der Autor*innen auf ausgewählte Städte in Deutschland (Karte)\" wird erstellt\n",
    "    html.H1(\"Verteilung der Autor*innen auf ausgewählte Städte in Deutschland (Karte)\", className=\"Überschrift\"),\n",
    "\n",
    "    # Zeilenumbruch wird eingefügt\n",
    "    html.Br(),\n",
    "\n",
    "    # Dropdown-Menü zur Auswahl der Karte wird erstellt und gestaltet\n",
    "    html.Div([\n",
    "        html.Label(\"Karte auswählen\", className=\"label\"),  # Label für das Dropdown-Menü\n",
    "        dcc.Dropdown(\n",
    "            id=\"map_dropdown\",  # ID für das Dropdown-Menü wird festgelegt\n",
    "            options=[  # Optionen für das Dropdown-Menü\n",
    "                {\"label\": \"Wirkungsort der Autor*innen\", \"value\": \"Wirkungsort\"},\n",
    "                {\"label\": \"Wirkungsort der Autor*innen (Gattung: Epik)\", \"value\": \"Epik\"},\n",
    "                {\"label\": \"Wirkungsort der Autor*innen (Gattung: Drama)\", \"value\": \"Drama\"},\n",
    "                {\"label\": \"Wirkungsort der Autor*innen (Gattung: Lyrik)\", \"value\": \"Lyrik\"}\n",
    "            ],\n",
    "            value=\"Wirkungsort\",  # Standardwert des Dropdown-Menüs\n",
    "            clearable=False,  # Möglichkeit, das Dropdown-Feld zu leeren, ist deaktiviert\n",
    "            className=\"dropdown\"  # Stil für das Dropdown-Menü wird definiert\n",
    "        ),\n",
    "    ], className=\"dropdown-container\"),  # Stil für den Div-Container des Dropdown-Menüs wird definiert\n",
    "\n",
    "    # Dropdown-Menü zur Auswahl des Geschlechts wird erstellt und gestaltet\n",
    "    html.Div([\n",
    "        html.Label(\"Geschlecht auswählen\", className=\"label\"),  # Label für das Dropdown-Menü\n",
    "        dcc.Dropdown(\n",
    "            id=\"gender_dropdown\",  # ID für das Dropdown-Menü wird festgelegt\n",
    "            options=[  # Optionen für das Dropdown-Menü\n",
    "                {\"label\": \"Gesamt\", \"value\": \"Gesamt\"},\n",
    "                {\"label\": \"Männlich\", \"value\": \"Männlich\"},\n",
    "                {\"label\": \"Weiblich\", \"value\": \"Weiblich\"}\n",
    "            ],\n",
    "            value=\"Gesamt\",  # Standardwert des Dropdown-Menüs\n",
    "            clearable=False,  # Möglichkeit, das Dropdown-Feld zu leeren, ist deaktiviert\n",
    "            className=\"dropdown\"  # Stil für das Dropdown-Menü wird definiert\n",
    "        ),\n",
    "    ], className=\"dropdown-container\"),  # Stil für den Div-Container des Dropdown-Menüs wird definiert\n",
    "\n",
    "    # Zeilenumbruch wird eingefügt\n",
    "    html.Br(),\n",
    "\n",
    "    # Grafikfeld für die Karte wird erstellt und gestaltet\n",
    "    dcc.Graph(id=\"bubble_map\", className=\"chart\"),  # ID und Stil für das Karten-Grafikfeld\n",
    "\n",
    "    # Div-Container der Fußzeile wird erstellt\n",
    "    html.Div([\n",
    "        html.P(\"Erstellt von Aylin Acilanmak, Martina Schorsten & Christin Walter | © 2023\",\n",
    "               id=\"fußzeile\",\n",
    "               className=\"fußzeile_2\")\n",
    "    ])\n",
    "])\n",
    "\n",
    "\n",
    "# Callback-Funktion, die auf Auswahl der Benutzer*innen in Dropdown-Menüs reagiert\n",
    "@app.callback(\n",
    "    Output(\"bubble_map\", \"figure\"),  # filtert Datenframe basierend auf Auswahl/Input der Benutzer*innen\n",
    "    [Input(\"map_dropdown\", \"value\"),\n",
    "     Input(\"gender_dropdown\", \"value\")]\n",
    ")\n",
    "# Funktionsaufruf, wenn sich Werte der beiden Dropdown-Menüs ändern\n",
    "def update_bubble_map(selected_map, selected_gender):\n",
    "    # Gewünschte Städte filtern\n",
    "    cities = [\"Berlin\", \"München\", \"Leipzig\", \"Hamburg\", \"Köln\", \"Frankfurt am Main\", \"Dresden\", \"Freiburg im Breisgau\",\n",
    "              \"Halle (Saale)\", \"Heidelberg\"]\n",
    "    df_filtered = df_unique[df_unique[\"Wirkungsort\"].isin(cities)]\n",
    "\n",
    "    # Funktion filtert Datenframe df basierend auf dem ausgewählten Geschlecht\n",
    "    if selected_gender == \"Gesamt\":\n",
    "        df_selected = df_filtered.copy()  # Funktion behält gesamten Datenframe\n",
    "    elif selected_gender == \"Männlich\":\n",
    "        # nur Zeilen mit Geschlecht männlich im Datenframe enthalten\n",
    "        df_selected = df_filtered[df_filtered[\"Geschlecht\"] == \"Männlich\"]\n",
    "    elif selected_gender == \"Weiblich\":\n",
    "        # nur Zeilen mit Geschlecht weiblich im Datenframe enthalten\n",
    "        df_selected = df_filtered[df_filtered[\"Geschlecht\"] == \"Weiblich\"]\n",
    "\n",
    "    # Nach Wirkungsorten gruppieren und Autor*innen zählen / Anzahl der Autor*innen pro Wirkungsort\n",
    "    if selected_map == \"Wirkungsort\":  # zählt Anzahl der Autor*innen pro Wirkungsort\n",
    "        city_counts = df_selected[\"Wirkungsort\"].value_counts().reset_index()\n",
    "        title = \"Verteilung der Autor*innen auf ausgewählte Städte in Deutschland\"  # Titel\n",
    "        if selected_gender == \"Weiblich\":\n",
    "            size_multiplier = 7  # vergrößern der Blasen, da sonst nicht sichtbar\n",
    "        else:\n",
    "            size_multiplier = 1  # Größe kann so bleiben\n",
    "    elif selected_map == \"Epik\":  # zählt Anzahl der Autor*innen der Epik pro Wirkungsort\n",
    "        df_epik = df_selected[df_selected[\"Gattung\"] == \"Epik\"]\n",
    "        city_counts = df_epik[\"Wirkungsort\"].value_counts().reset_index()\n",
    "        title = \"Verteilung der Autor*innen auf ausgewählte Städte in Deutschland (Gattung: Epik)\"\n",
    "        size_multiplier = 7  # vergrößern der Blasen, da sonst nicht sichtbar\n",
    "    elif selected_map == \"Drama\":  # zählt Anzahl der Autor*innen des Dramas pro Wirkungsort\n",
    "        df_drama = df_selected[df_selected[\"Gattung\"] == \"Drama\"]\n",
    "        city_counts = df_drama[\"Wirkungsort\"].value_counts().reset_index()\n",
    "        title = \"Verteilung der Autor*innen auf ausgewählte Städte in Deutschland (Gattung: Drama)\"\n",
    "        size_multiplier = 7  # vergrößern der Blasen, da sonst nicht sichtbar\n",
    "    elif selected_map == \"Lyrik\":  # zählt Anzahl der Autor*innen der Lyrik pro Wirkungsort\n",
    "        df_lyrik = df_selected[df_selected[\"Gattung\"] == \"Lyrik\"]\n",
    "        city_counts = df_lyrik[\"Wirkungsort\"].value_counts().reset_index()\n",
    "        title = \"Verteilung der Autor*innen auf ausgewählte Städte in Deutschland (Gattung: Lyrik)\"\n",
    "        size_multiplier = 7  # vergrößern der Blasen, da sonst nicht sichtbar\n",
    "\n",
    "    city_counts.columns = [\"Wirkungsort\", \"Autor\"]\n",
    "\n",
    "    # Bubble Map erstellen\n",
    "    fig = go.Figure()  # leeres Objekt\n",
    "\n",
    "    for city in city_counts[\"Wirkungsort\"]:  # Schleife geht durch jeden Wirkungsort\n",
    "        count = city_counts.loc[city_counts[\"Wirkungsort\"] == city, \"Autor\"].iloc[0]\n",
    "        latitude, longitude = city_coordinates[city]  # mithilfe von Breiten- und Längengrad aus city_coordinates erhalten\n",
    "        bubble_size = count * size_multiplier  # Größe der Blasen anpassen, size_multiplier in vorherigen Bedingungen\n",
    "        sizeref = 2 * max(city_counts[\"Autor\"]) / (bubble_size ** 2)  # Größenbezug definieren\n",
    "        fig.add_trace(  # leeres Objekt wird befüllt\n",
    "            go.Scattergeo(  # Erstellung der Karte / Bestimmung der Eigenschaften der Blasen\n",
    "                lon=[longitude],  # setzt Längengrade auf im vorherigen Schritt ermittelte Werte\n",
    "                lat=[latitude],  # setzt Breitengrade auf im vorherigen Schritt ermittelte Werte\n",
    "                mode=\"markers\",  # Aussehen der Blasen\n",
    "                marker=dict(  # Beschreibung der Markereigenschaften\n",
    "                    size=bubble_size,  # Größe der Blasen\n",
    "                    sizemode=\"diameter\",  # Größe als Durchmesser\n",
    "                    sizeref=sizeref,  # oben festgelegte Größe verwenden\n",
    "                    color=bubble_size,  # Anzahl Autor*innen wird verwendet für Farben auf Karte\n",
    "                    line=dict(width=0.5, color=\"white\")  # Linienbreite und Farbe für Markierungen\n",
    "                ),\n",
    "                text=f\"{city}<br>Autor*innen: {count}\",  # angezeigter Text, wenn man mit Maus über Blasen fährt (interaktiv)\n",
    "                name=city  # Name der Blasen (Wirkungsort), der in Legende des Diagramms angezeigt wird\n",
    "            )\n",
    "        )\n",
    "\n",
    "    # Layout anpassen\n",
    "    fig.update_layout(\n",
    "        title=title,  # Titel der Karte\n",
    "        geo=dict(  # geografische Eigenschaften\n",
    "            scope=\"europe\",  # Karte auf Europa beschränkt\n",
    "            lonaxis_range=[5.5, 15.5],  # Bereich der angezeigten Längengrade\n",
    "            lataxis_range=[47, 55],  # Bereich der angezeigten Breitengrade\n",
    "            showland=True,  # Land anzeigen (Deutschland)\n",
    "            landcolor=\"rgb(229, 229, 229)\",  # Farben des Landes\n",
    "            countrycolor=\"rgb(255, 255, 255)\",  # Farben der Ländergrenzen\n",
    "            coastlinecolor=\"rgb(255, 255, 255)\",  # Farben der Küstenlinien\n",
    "            showocean=False,  # Ozean nicht anzeigen\n",
    "            showrivers=False,  # Flüsse nicht anzeigen\n",
    "            resolution=50,  # Auflösung der Karte\n",
    "            projection_type=\"mercator\"  # Übersetzung: Projektionsart\n",
    "        ),\n",
    "        showlegend=True,  # Legende anzeigen\n",
    "        legend=dict(  # Eigenschaften der Legende\n",
    "            traceorder=\"normal\",  # Reihenfolge der Wirkungsorte (nach Größe in Legende angezeigt)\n",
    "            font=dict(family=\"sans-serif\", size=12, color=\"black\"),  # Schriftart, -größe, -farbe\n",
    "            bgcolor=\"rgba(0,0,0,0)\",  # Hintergrundfarben der Legende\n",
    "            bordercolor=\"rgba(0,0,0,0)\"  # Randfarbe der Legende\n",
    "        )\n",
    "    )\n",
    "\n",
    "    # Wenn keine Daten vorhanden sind, Hinweis anzeigen\n",
    "    if city_counts.empty:\n",
    "        fig = go.Figure()\n",
    "        fig.update_layout(\n",
    "            title=\"Keine Daten verfügbar für diese Kombination\",\n",
    "            showlegend=False\n",
    "        )\n",
    "        fig.add_annotation(\n",
    "            text=\"Bitte wählen Sie eine andere Kombination aus.\",\n",
    "            xref=\"paper\",\n",
    "            yref=\"paper\",\n",
    "            x=0.5,\n",
    "            y=0.5,\n",
    "            showarrow=False,\n",
    "            font=dict(size=18)\n",
    "        )\n",
    "\n",
    "    return fig  # Funktion als Ausgabe zurückgeben"
   ]
  },
  {
   "cell_type": "markdown",
   "id": "36dbd133",
   "metadata": {},
   "source": [
    "Thema 4 analysiert die Verteilung der Nationalitäten von Autor\\*innen. Hier ist es nicht gelungen, dem/der Nutzer\\*in mitzuteilen, dass keine Daten für eine gewisse Kombination aus Geschlecht und Gattung vorhanden ist und dass eine neue Kombination gewählt werden soll. Stattdessen erscheint eine leere Karte."
   ]
  },
  {
   "cell_type": "code",
   "execution_count": 23,
   "id": "45385774",
   "metadata": {},
   "outputs": [],
   "source": [
    "# Thema 4 Layout\n",
    "# Div-Container für Thema 4 wird erstellt\n",
    "theme4_layout = html.Div([\n",
    "\n",
    "    # Überschrift \"Hauptmenü\" wird erstellt und gestaltet\n",
    "    html.H1(\"Hauptmenü\", className=\"header\"),\n",
    "\n",
    "    # Div-Container mit Links und Buttons für verschiedene Themen wird erstellt\n",
    "    html.Div([\n",
    "\n",
    "        # Link \"Zurück zum Hauptmenü\" wird erstellt und gestaltet\n",
    "        html.A(\"Zurück zum Hauptmenü\", href=\"/\", className=\"topnav button button-link\"),\n",
    "\n",
    "        # Buttons für verschiedene Themen werden erstellt\n",
    "        html.Button(\"Werksuche\", id=\"button-theme1\", className=\"topnav\"),\n",
    "        html.Button(\"Gattungsverteilung\", id=\"button-theme2\", className=\"topnav\"),\n",
    "        html.Button(\"Karte der deutschen Städte\", id=\"button-theme3\", className=\"topnav\"),\n",
    "        html.Button(\"Weltkarte\", id=\"button-theme4\", className=\"topnav\"),\n",
    "        html.Button(\"Kreisdiagramme\", id=\"button-theme5\", className=\"topnav\"),\n",
    "        html.Button(\"Balkendiagramme\", id=\"button-theme6\", className=\"topnav\")\n",
    "    ], className=\"topnav\"),  # Stil für den Div-Container wird definiert\n",
    "\n",
    "    # Weitere Überschrift \"Verteilung der Nationalitäten von Autor*innen\" wird erstellt\n",
    "    html.H1(\"Verteilung der Nationalitäten von Autor*innen\", className=\"Überschrift\"),\n",
    "\n",
    "    # Zeilenumbruch wird eingefügt\n",
    "    html.Br(),\n",
    "\n",
    "    # Dropdown-Menü zur Auswahl der Karte wird erstellt und gestaltet\n",
    "    html.Div([\n",
    "        html.Label(\"Karte auswählen\", className=\"label\"),  # Label für das Dropdown-Menü\n",
    "        dcc.Dropdown(\n",
    "            id=\"map_dropdown\",  # ID für das Dropdown-Menü wird festgelegt\n",
    "            options=[  # Optionen für das Dropdown-Menü\n",
    "                {\"label\": \"Nationalitäten\", \"value\": \"Autor\"},\n",
    "                {\"label\": \"Gattung Epik\", \"value\": \"Epik\"},\n",
    "                {\"label\": \"Gattung Drama\", \"value\": \"Drama\"},\n",
    "                {\"label\": \"Gattung Lyrik\", \"value\": \"Lyrik\"}\n",
    "            ],\n",
    "            value=\"Autor\",  # Standardwert des Dropdown-Menüs\n",
    "            clearable=False,  # Möglichkeit, das Dropdown-Feld zu leeren, ist deaktiviert\n",
    "            className=\"dropdown\"  # Stil für das Dropdown-Menü wird definiert\n",
    "        ),\n",
    "    ], className=\"dropdown-container\"),  # Stil für den Div-Container des Dropdown-Menüs wird definiert\n",
    "\n",
    "    # Dropdown-Menü zur Auswahl des Geschlechts wird erstellt und gestaltet\n",
    "    html.Div([\n",
    "        html.Label(\"Geschlecht auswählen\", className=\"label\"),  # Label für das Dropdown-Menü\n",
    "        dcc.Dropdown(\n",
    "            id=\"gender_dropdown\",  # ID für das Dropdown-Menü wird festgelegt\n",
    "            options=[  # Optionen für das Dropdown-Menü\n",
    "                {\"label\": \"Gesamt\", \"value\": \"Gesamt\"},\n",
    "                {\"label\": \"Männlich\", \"value\": \"Männlich\"},\n",
    "                {\"label\": \"Weiblich\", \"value\": \"Weiblich\"}\n",
    "            ],\n",
    "            value=\"Gesamt\",  # Standardwert des Dropdown-Menüs\n",
    "            clearable=False,  # Möglichkeit, das Dropdown-Feld zu leeren, ist deaktiviert\n",
    "            className=\"dropdown\"  # Stil für das Dropdown-Menü wird definiert\n",
    "        ),\n",
    "    ], className=\"dropdown-container\"),  # Stil für den Div-Container des Dropdown-Menüs wird definiert\n",
    "\n",
    "    # Zeilenumbruch wird eingefügt\n",
    "    html.Br(),\n",
    "\n",
    "    # Grafikfeld für die Karte wird erstellt und gestaltet\n",
    "    dcc.Graph(id=\"choropleth_map\", className=\"chart\"),  # ID und Stil für das Karten-Grafikfeld\n",
    "\n",
    "    # Div-Container der Fußzeile wird erstellt\n",
    "    html.Div([\n",
    "        html.P(\"Erstellt von Aylin Acilanmak, Martina Schorsten & Christin Walter | © 2023\",\n",
    "               id=\"fußzeile\",\n",
    "               className=\"fußzeile_2\")\n",
    "    ])\n",
    "])\n",
    "\n",
    "\n",
    "# Callback-Funktion, die auf Auswahl der Benutzer*innen in Dropdown-Menüs reagiert\n",
    "@app.callback(\n",
    "    Output(\"choropleth_map\", \"figure\"),  # filtert Datenframe basierend auf Auswahl/Input der Benutzer*innen\n",
    "    [Input(\"map_dropdown\", \"value\"),\n",
    "     Input(\"gender_dropdown\", \"value\")]\n",
    ")\n",
    "# Funktionsaufruf, wenn sich Werte der beiden Dropdown-Menüs ändern\n",
    "def update_choropleth_map(selected_map, selected_gender):\n",
    "    # Funktion filtert Datenframe df basierend auf dem ausgewählten Geschlecht\n",
    "    if selected_gender == \"Gesamt\":\n",
    "        df_selected = df_unique.copy()  # Funktion behält gesamten Datenframe\n",
    "    elif selected_gender == \"Männlich\":\n",
    "        df_selected = df_unique[df_unique[\"Geschlecht\"] == \"Männlich\"]  # nur Zeilen mit Geschlecht männlich im Datenframe enthalten\n",
    "    elif selected_gender == \"Weiblich\":\n",
    "        df_selected = df_unique[df_unique[\"Geschlecht\"] == \"Weiblich\"]  # nur Zeilen mit Geschlecht weiblich im Datenframe enthalten\n",
    "\n",
    "    # Ländercodes/Standardisierte Ländernamen der Karte hinzufügen\n",
    "    df_selected[\"iso_alpha\"] = df_selected[\"Nationalität\"].map(country_mapping)\n",
    "\n",
    "    # Funktion filtert Datenframe df basierend auf der ausgewählten Karte\n",
    "    if selected_map == \"Autor\":  # zählt Anzahl der Autor*innen pro Land\n",
    "        df_counts = df_selected.groupby(\"iso_alpha\")[\"Autor\"].count().reset_index()\n",
    "        title = \"Verteilung der Nationalitäten von Autor*innen\"  # Titel\n",
    "        range_color = (0, 100)  # Wertebereich und mittleren Punkt je nach Gattung individuell anpassen\n",
    "        color_continuous_midpoint = 50\n",
    "    elif selected_map == \"Epik\":  # zählt Anzahl der Autor*innen der Epik pro Land\n",
    "        df_epik = df_selected[df_selected[\"Gattung\"] == \"Epik\"]\n",
    "        df_counts = df_epik.groupby(\"iso_alpha\")[\"Autor\"].count().reset_index()\n",
    "        title = \"Verteilung der Nationalitäten von Autor*innen der Gattung Epik\"\n",
    "        range_color = (0, 100)\n",
    "        color_continuous_midpoint = 50\n",
    "    elif selected_map == \"Drama\":  # zählt Anzahl der Autor*innen des Dramas pro Land\n",
    "        df_drama = df_selected[df_selected[\"Gattung\"] == \"Drama\"]\n",
    "        df_counts = df_drama.groupby(\"iso_alpha\")[\"Autor\"].count().reset_index()\n",
    "        title = \"Verteilung der Nationalitäten von Autor*innen der Gattung Drama\"\n",
    "        range_color = (0, 100)\n",
    "        color_continuous_midpoint = 50\n",
    "    elif selected_map == \"Lyrik\":  # zählt Anzahl der Autor*innen der Lyrik pro Land\n",
    "        df_lyrik = df_selected[df_selected[\"Gattung\"] == \"Lyrik\"]\n",
    "        df_counts = df_lyrik.groupby(\"iso_alpha\")[\"Autor\"].count().reset_index()\n",
    "        title = \"Verteilung der Nationalitäten von Autor*innen der Gattung Lyrik\"\n",
    "        range_color = (0, 100)\n",
    "        color_continuous_midpoint = 50\n",
    "\n",
    "    # Funktion erstellt Choroplethenkarte\n",
    "    fig = px.choropleth(\n",
    "        df_counts,\n",
    "        locations=\"iso_alpha\",  # welche Spalte des Datenframe die geografischen Standorte enthält\n",
    "        locationmode=\"ISO-3\",  # Ländercodes im ISO-3-Format, also drei-buchstabige Kürzel\n",
    "        color=\"Autor\",  # Spalte Autor*innen des Datenframes wird verwendet für die Farben auf der Karte\n",
    "        hover_name=\"iso_alpha\",  # ISO-Ländercodes anzeigen, wenn Benutzer*in mit Maus über Region auf Karte fährt\n",
    "        title=title,  # Titel der Karte, in jeder Bedingung oben individuell angepasst\n",
    "        color_continuous_scale=\"tropic\",  # Farbpalette der Choroplethenkarte bestimmen\n",
    "        range_color=range_color,  # Bereich der Werte für die Farbskala optimieren, in jeder Bedingung oben individuell\n",
    "        color_continuous_midpoint=color_continuous_midpoint  # mittlerer Punkt der Farbskala (individuell)\n",
    "    )\n",
    "\n",
    "    return fig  # Funktion als Ausgabe zurückgeben"
   ]
  },
  {
   "cell_type": "markdown",
   "id": "8200be5a",
   "metadata": {},
   "source": [
    "Thema 5 zeigt unterschiedliche Analysen in Form von Kreisdiagrammen."
   ]
  },
  {
   "cell_type": "code",
   "execution_count": 24,
   "id": "15f96500",
   "metadata": {},
   "outputs": [],
   "source": [
    "# Thema 5 Layout\n",
    "# Div-Container für Thema 5 wird erstellt\n",
    "theme5_layout = html.Div([\n",
    "\n",
    "    # Überschrift \"Hauptmenü\" wird erstellt und gestaltet\n",
    "    html.H1(\"Hauptmenü\", className=\"header\"),\n",
    "\n",
    "    # Div-Container mit Links und Buttons für verschiedene Themen wird erstellt\n",
    "    html.Div([\n",
    "\n",
    "        # Link \"Zurück zum Hauptmenü\" wird erstellt und gestaltet\n",
    "        html.A(\"Zurück zum Hauptmenü\", href=\"/\", className=\"topnav button button-link\"),\n",
    "\n",
    "        # Buttons für verschiedene Themen werden erstellt\n",
    "        html.Button(\"Werksuche\", id=\"button-theme1\", className=\"topnav\"),\n",
    "        html.Button(\"Gattungsverteilung\", id=\"button-theme2\", className=\"topnav\"),\n",
    "        html.Button(\"Karte der deutschen Städte\", id=\"button-theme3\", className=\"topnav\"),\n",
    "        html.Button(\"Weltkarte\", id=\"button-theme4\", className=\"topnav\"),\n",
    "        html.Button(\"Kreisdiagramme\", id=\"button-theme5\", className=\"topnav\"),\n",
    "        html.Button(\"Balkendiagramme\", id=\"button-theme6\", className=\"topnav\")\n",
    "    ], className=\"topnav\"),\n",
    "\n",
    "    # Überschrift \"Kreisdiagramme\" wird erstellt\n",
    "    html.H1(\"Kreisdiagramme\", className=\"Überschrift\"),\n",
    "\n",
    "    # Zeilenumbruch wird eingefügt\n",
    "    html.Br(),\n",
    "\n",
    "    # Dropdown-Menü zur Auswahl des Diagramms wird erstellt und gestaltet\n",
    "    html.Div([\n",
    "        html.Label(\"Werktitel als Wissensraum\", className=\"label\"),  # Titel\n",
    "        dcc.Dropdown(  # 1. Dropdown-Menü zur Auswahl des Diagramms\n",
    "            id=\"my_dropdown\",  # ID wird verwendet, um im Callback auf Dropdown-Menü zu verweisen\n",
    "            options=[  # Optionen des Dropdown-Menüs\n",
    "                {\"label\": \"Nationalität der Autor*innen\", \"value\": \"Nationalität\"},\n",
    "                {\"label\": \"Sprache der Veröffentlichung\", \"value\": \"Sprache der Veröffentlichung\"},\n",
    "                {\"label\": \"Geschlecht\", \"value\": \"Geschlecht\"},\n",
    "                {\"label\": \"Gattung\", \"value\": \"Gattung\"},\n",
    "                {\"label\": \"Wirkungsort\", \"value\": \"Wirkungsort\"},\n",
    "            ],\n",
    "            value=\"Geschlecht\",  # Anfangswert des Dropdown-Menüs\n",
    "            multi=False,  # bestimmt, ob Benutzer*innen mehrere Werte aus Dropdown-Menü auswählen kann oder (hier: nicht)\n",
    "            clearable=False,  # Parameter bestimmt, dass Benutzer*innen ausgewählten Wert im Dropdown-Menü nicht löschen kann\n",
    "            style={\"width\": \"50%\"},  # Parameter bestimmt, dass Benutzer*innen ausgewählten Wert im Dropdown-Menü nicht löschen kann\n",
    "            className=\"dropdown\"\n",
    "        ),\n",
    "    ], className=\"dropdown-container\"),\n",
    "    html.Div([\n",
    "        html.Label(\"Geschlecht auswählen\", className=\"label\"),  # Titel\n",
    "        dcc.Dropdown(  # 2. Dropdown-Menü zur Auswahl des Geschlechts\n",
    "            id=\"gender_dropdown\",\n",
    "            options=[  # Optionen des Dropdown-Menüs\n",
    "                {\"label\": \"Gesamt\", \"value\": \"Gesamt\"},\n",
    "                {\"label\": \"Männlich\", \"value\": \"Männlich\"},\n",
    "                {\"label\": \"Weiblich\", \"value\": \"Weiblich\"}\n",
    "            ],\n",
    "            value=\"Gesamt\",  # Anfangswert des Dropdown-Menüs\n",
    "            multi=False,  # bestimmt, ob Benutzer*innen mehrere Werte aus Dropdown-Menü auswählen kann oder (hier: nicht)\n",
    "            clearable=False,  # Parameter bestimmt, dass Benutzer*innen ausgewählten Wert im Dropdown-Menü nicht löschen kann\n",
    "            style={\"width\": \"50%\"},  # Parameter bestimmt, dass Benutzer*innen ausgewählten Wert im Dropdown-Menü nicht löschen kann\n",
    "            className=\"dropdown\"\n",
    "        ),\n",
    "    ], className=\"dropdown-container\"),\n",
    "\n",
    "    # Zeilenumbruch wird eingefügt\n",
    "    html.Br(),\n",
    "\n",
    "    # Grafikfeld für das Diagramm wird erstellt und gestaltet\n",
    "    dcc.Graph(id=\"the_graph_1\", className=\"chart\"),  # ID und Stil des Grafikfelds\n",
    "\n",
    "    # Div-Container der Fußzeile wird erstellt\n",
    "    html.Div([\n",
    "        html.P(\"Erstellt von Aylin Acilanmak, Martina Schorsten & Christin Walter | © 2023\",\n",
    "               id=\"fußzeile\",\n",
    "               className=\"fußzeile_2\")\n",
    "    ])\n",
    "])\n",
    "\n",
    "\n",
    "# Grenze (threshold) festlegen, unter der alle Werte zur besseren Übersichtlichkeit in Andere fallen\n",
    "def group_values_below_threshold(df_unique, column, threshold):\n",
    "    counts = df_unique[column].value_counts()\n",
    "    below_threshold = counts[counts / counts.sum() < threshold].index\n",
    "    df_unique[column] = df_unique[column].apply(lambda x: \"Andere\" if x in below_threshold else x)\n",
    "    return df_unique  # \"angepassten\" Datenframe zurückgeben\n",
    "\n",
    "\n",
    "# Callback-Funktion, die auf Auswahl der Benutzer*innen in Dropdown-Menüs reagiert\n",
    "@app.callback(\n",
    "    Output(component_id=\"the_graph_1\", component_property=\"figure\"),  # filtert Datenframe basierend auf Auswahl/Input der Benutzer*innen\n",
    "    [Input(component_id=\"my_dropdown\", component_property=\"value\"),\n",
    "     Input(component_id=\"gender_dropdown\", component_property=\"value\")]\n",
    ")\n",
    "# Funktionsaufruf, wenn sich Werte der beiden Dropdown-Menüs ändern\n",
    "def update_graph(my_dropdown, gender_dropdown):\n",
    "    # Funktion filtert Datenframe df basierend auf dem ausgewählten Geschlecht\n",
    "    if gender_dropdown == \"Gesamt\":\n",
    "        dff = df_unique.dropna(subset=[my_dropdown])\n",
    "    else:\n",
    "        dff = df_unique[(df_unique[\"Geschlecht\"] == gender_dropdown)].dropna(subset=[my_dropdown])  # nur Zeilen behalten, in denen\n",
    "        # Geschlecht gleich \"gender_dropdown\" ist\n",
    "\n",
    "    # Alle Werte einer Kategorie fallen unter Andere, wenn sie unter 1 % liegen\n",
    "    dff = group_values_below_threshold(dff, my_dropdown, 0.01)\n",
    "\n",
    "    # Farbsequenz für die Diagramme\n",
    "    colors = [\"#DDBFA9\", \"#FF9642\", \"#00CED1\", \"#ECD540\", \"#FFC0CB\", \"#FFFF66\", \"#85e0db\",\n",
    "              \"#FF7F50\", \"#98FB98\", \"#87CEEB\", \"#8BD3E6\", \"#E6E6FA\", \"#98FB98\", \"#FA8072\",\n",
    "              \"#CCCCFF\", \"#FFFACD\", \"#008080\", \"#FFFDD0\", \"#C8A2C8\", \"#F0FFF0\", \"#FADADD\"]\n",
    "\n",
    "    # Funktion erstellt Kreisdiagramm\n",
    "    piechart = px.pie(\n",
    "        data_frame=dff,  # Datenframe dff als Eingabe für die Funktion\n",
    "        names=my_dropdown,  # Spalte \"my_dropdown\" aus dff wird für Erstellung der Labels für die Sektoren des Kreisdiagramms verwendet\n",
    "        hole=0.3,  # Erzeugen eines Lochs mit einem Durchmesser von 0.3 in der Mitte des Kreisdiagramms\n",
    "        color=my_dropdown,  # Spalte für die Farbcodierung der Balken\n",
    "        color_discrete_sequence=colors,  # Benutzerdefinierte Farbsequenz\n",
    "    )\n",
    "    return piechart  # Funktion als Ausgabe zurückgeben"
   ]
  },
  {
   "cell_type": "markdown",
   "id": "47c04f26",
   "metadata": {},
   "source": [
    "Thema 6 zeigt unterschiedliche Analysen in Form von Balkendiagrammen. Aufgrund des Feedbacks von Herr Hein zur besseren Übersichtlichkeit mithilfe einer logarithmischen Skala haben wir uns dazu entschieden, ein drittes Dropdown-Menü mit der Auswahl zwischen einer linearen und logarithmischen Skalierung einzufügen."
   ]
  },
  {
   "cell_type": "code",
   "execution_count": 25,
   "id": "0a89e454",
   "metadata": {},
   "outputs": [],
   "source": [
    "# Thema 6 Layout\n",
    "# Div-Container für Thema 6 wird erstellt\n",
    "theme6_layout = html.Div([\n",
    "\n",
    "    # Überschrift \"Hauptmenü\" wird erstellt und gestaltet\n",
    "    html.H1(\"Hauptmenü\", className=\"header\"),\n",
    "\n",
    "    # Div-Container mit Links und Buttons für verschiedene Themen wird erstellt\n",
    "    html.Div([\n",
    "        html.A(\"Zurück zum Hauptmenü\", href=\"/\", className=\"topnav button button-link\"),\n",
    "        html.Button(\"Werksuche\", id=\"button-theme1\", className=\"topnav\"),\n",
    "        html.Button(\"Gattungsverteilung\", id=\"button-theme2\", className=\"topnav\"),\n",
    "        html.Button(\"Karte der deutschen Städte\", id=\"button-theme3\", className=\"topnav\"),\n",
    "        html.Button(\"Weltkarte\", id=\"button-theme4\", className=\"topnav\"),\n",
    "        html.Button(\"Kreisdiagramme\", id=\"button-theme5\", className=\"topnav\"),\n",
    "        html.Button(\"Balkendiagramme\", id=\"button-theme6\", className=\"topnav\")\n",
    "    ], className=\"topnav\"),\n",
    "\n",
    "    # Überschrift \"Balkendiagramme\" wird erstellt\n",
    "    html.H1(\"Balkendiagramme\", className=\"Überschrift\"),\n",
    "\n",
    "    # Zeilenumbruch wird eingefügt\n",
    "    html.Br(),\n",
    "\n",
    "    # Dropdown-Menü zur Auswahl des Diagramms wird erstellt und gestaltet\n",
    "    html.Div([\n",
    "        html.Label(\"Werktitel als Wissensraum\", className=\"label\"),  # Titel\n",
    "        dcc.Dropdown(  # 1. Dropdown-Menü zur Auswahl der Gattung\n",
    "            id=\"my_dropdown\",  # ID wird verwendet, um im Callback auf Dropdown-Menü zu verweisen\n",
    "            options=[  # Optionen des Dropdown-Menüs\n",
    "                {\"label\": \"Nationalität der Autor*innen\", \"value\": \"Nationalität\"},\n",
    "                {\"label\": \"Sprache der Veröffentlichung\", \"value\": \"Sprache der Veröffentlichung\"},\n",
    "                {\"label\": \"Geschlecht\", \"value\": \"Geschlecht\"},\n",
    "                {\"label\": \"Gattung\", \"value\": \"Gattung\"},\n",
    "                {\"label\": \"Wirkungsort\", \"value\": \"Wirkungsort\"},\n",
    "            ],\n",
    "            value=\"Geschlecht\",  # Anfangswert des Dropdown-Menüs\n",
    "            multi=False,  # bestimmt, ob Benutzer*innen mehrere Werte aus Dropdown-Menü auswählen kann oder (hier: nicht)\n",
    "            clearable=False,  # Parameter bestimmt, dass Benutzer*innen ausgewählten Wert im Dropdown-Menü nicht löschen kann\n",
    "            style={\"width\": \"50%\"},  # Aussehen der Dropdown-Komponente\n",
    "            className=\"dropdown\"\n",
    "        ),\n",
    "    ], className=\"dropdown-container\"),\n",
    "\n",
    "    # Dropdown-Menü zur Auswahl des Diagramms wird erstellt und gestaltet\n",
    "    html.Div([\n",
    "        html.Label(\"Geschlecht auswählen\", className=\"label\"),  # Titel\n",
    "        dcc.Dropdown(  # 2. Dropdown-Menü zur Auswahl des Geschlechts\n",
    "            id=\"gender_dropdown\",  # ID wird verwendet, um im Callback auf Dropdown-Menü zu verweisen\n",
    "            options=[  # Optionen des Dropdown-Menüs\n",
    "                {\"label\": \"Gesamt\", \"value\": \"Gesamt\"},\n",
    "                {\"label\": \"Männlich\", \"value\": \"Männlich\"},\n",
    "                {\"label\": \"Weiblich\", \"value\": \"Weiblich\"}\n",
    "            ],\n",
    "            value=\"Gesamt\",  # Anfangswert des Dropdown-Menüs\n",
    "            multi=False,  # bestimmt, ob Benutzer*innen mehrere Werte aus Dropdown-Menü auswählen kann oder (hier: nicht)\n",
    "            clearable=False,  # Parameter bestimmt, dass Benutzer*innen ausgewählten Wert im Dropdown-Menü nicht löschen kann\n",
    "            style={\"width\": \"50%\"},  # Aussehen der Dropdown-Komponente\n",
    "            className=\"dropdown\"\n",
    "        ),\n",
    "    ], className=\"dropdown-container\"),\n",
    "\n",
    "    # Dropdown-Menü zur Auswahl der Darstellung/Skalierung des Diagramms wird erstellt und gestaltet\n",
    "    html.Div([\n",
    "        html.Label(\"Skalierung auswählen\", className=\"label\"),  # Titel\n",
    "        dcc.Dropdown(  # 2. Dropdown-Menü zur Auswahl des Geschlechts\n",
    "            id=\"log_dropdown\",  # ID wird verwendet, um im Callback auf Dropdown-Menü zu verweisen\n",
    "            options=[  # Optionen des Dropdown-Menüs\n",
    "                {\"label\": \"Linear\", \"value\": \"Linear\"},\n",
    "                {\"label\": \"Logarithmisch\", \"value\": \"Logarithmisch\"}\n",
    "            ],\n",
    "            value=\"Linear\",  # Anfangswert des Dropdown-Menüs\n",
    "            multi=False,  # bestimmt, ob Benutzer*innen mehrere Werte aus Dropdown-Menü auswählen kann oder (hier: nicht)\n",
    "            clearable=False,  # Parameter bestimmt, dass Benutzer*innen ausgewählten Wert im Dropdown-Menü nicht löschen kann\n",
    "            style={\"width\": \"50%\"},  # Aussehen der Dropdown-Komponente\n",
    "            className=\"dropdown\"\n",
    "        ),\n",
    "    ], className=\"dropdown-container\"),\n",
    "\n",
    "    # Zeilenumbruch wird eingefügt\n",
    "    html.Br(),\n",
    "\n",
    "    # Grafikfeld für das Diagramm wird erstellt und gestaltet\n",
    "    dcc.Graph(id=\"the_graph_2\", className=\"chart\"),  # Grafikfeld, in dem das Diagramm angezeigt wird\n",
    "\n",
    "    # Div-Container der Fußzeile wird erstellt\n",
    "    html.Div([\n",
    "        html.P(\"Erstellt von Aylin Acilanmak, Martina Schorsten & Christin Walter | © 2023\",\n",
    "               id=\"fußzeile\",\n",
    "               className=\"fußzeile_2\")\n",
    "    ])\n",
    "])\n",
    "\n",
    "\n",
    "def get_absolute_counts(df_unique, column):  # Funktion, damit im Balkendiagramm absolute Zahlen angezeigt werden, zählt jede\n",
    "# Spalte, die in einem Datenframe gezählt wird\n",
    "    counts = df_unique[column].value_counts().reset_index()\n",
    "    counts.columns = [column, \"Count\"]\n",
    "    return counts  # gibt Datenframe zurück\n",
    "\n",
    "\n",
    "# Callback-Funktion, die auf Auswahl der Benutzer*innen in Dropdown-Menüs reagiert\n",
    "@app.callback(\n",
    "    Output(component_id=\"the_graph_2\", component_property=\"figure\"),  # filtert Datenframe basierend auf Auswahl/Input der Benutzer*innen\n",
    "    [Input(component_id=\"my_dropdown\", component_property=\"value\"),\n",
    "     Input(component_id=\"gender_dropdown\", component_property=\"value\"),\n",
    "     Input(component_id=\"log_dropdown\", component_property=\"value\")]\n",
    ")\n",
    "# Funktionsaufruf, wenn sich Werte der beiden Dropdown-Menüs ändern\n",
    "def update_graph(my_dropdown, gender_dropdown, log_dropdown):\n",
    "    # Funktion filtert Datenframe df basierend auf dem ausgewählten Geschlecht\n",
    "    if gender_dropdown == \"Gesamt\":\n",
    "        dff = df_unique.dropna(subset=[my_dropdown])\n",
    "    else:\n",
    "        dff = df_unique[(df_unique[\"Geschlecht\"] == gender_dropdown)].dropna(subset=[my_dropdown])  # nur Zeilen behalten, in denen\n",
    "        # Geschlecht gleich \"gender_dropdown\" ist\n",
    "\n",
    "    # absolute Zahlen und nur die TOP 50 Werte sollen angezeigt werden, falls es mehr als 50 gibt\n",
    "    counts = get_absolute_counts(dff, my_dropdown).head(50)\n",
    "\n",
    "    # Farbsequenz für die Diagramme\n",
    "    colors = [\"#DDBFA9\", \"#FF9642\", \"#00CED1\", \"#ECD540\", \"#FFC0CB\", \"#FFFF66\", \"#85e0db\",\n",
    "              \"#FF7F50\", \"#98FB98\", \"#87CEEB\", \"#8BD3E6\", \"#E6E6FA\", \"#98FB98\", \"#FA8072\",\n",
    "              \"#CCCCFF\", \"#FFFACD\", \"#008080\", \"#FFFDD0\", \"#C8A2C8\", \"#F0FFF0\", \"#FADADD\"]\n",
    "\n",
    "    # Funktion erstellt Balkendiagramm\n",
    "    barchart = px.bar(\n",
    "        data_frame=counts,  # Datenframe, der Daten für das Balkendiagramm enthält\n",
    "        x=my_dropdown,  # Spalte, die auf x-Achse dargestellt werden soll\n",
    "        y=\"Count\",  # Spalte, die auf y-Achse dargestellt werden soll\n",
    "        color=my_dropdown,  # Spalte für die Farbcodierung der Balken\n",
    "        color_discrete_sequence=colors,  # Benutzerdefinierte Farbsequenz\n",
    "        labels={my_dropdown: my_dropdown, \"Count\": \"Count\"}  # Achsenbeschriftung\n",
    "    )\n",
    "\n",
    "    # Überprüfen Sie den Wert des log_dropdown und passen Sie die Achsenskalierung an\n",
    "    if log_dropdown == \"Linear\":\n",
    "        barchart.update_layout(yaxis_type=\"linear\")\n",
    "    elif log_dropdown == \"Logarithmisch\":\n",
    "        barchart.update_layout(yaxis_type=\"log\")\n",
    "\n",
    "    return barchart  # Funktion als Ausgabe zurückgeben"
   ]
  },
  {
   "cell_type": "markdown",
   "id": "788bb46b",
   "metadata": {},
   "source": [
    "Zuletzt wird das Layout der App modifiziert und mithilfe der verlinkten CSS-Datei gestaltet. Die Auswahl im Menü wird eingefügt sowie die Möglichkeit, zwischen den einzelnen Seiten zu wechseln, ohne zurück zum Hauptmenü gehen zu müssen.\n",
    "HINWEIS: Trotz Warnung, wenn man den Code laufen lässt, kann die App über den Link, der generiert wird, gestartet werden. Falls dies nicht funktionieren sollte, ist der Code auch in der main.py gespeichert."
   ]
  },
  {
   "cell_type": "code",
   "execution_count": 26,
   "id": "04aa8ed2",
   "metadata": {},
   "outputs": [
    {
     "name": "stdout",
     "output_type": "stream",
     "text": [
      "Dash is running on http://127.0.0.1:8050/\n",
      "\n",
      " * Serving Flask app '__main__'\n",
      " * Debug mode: on\n"
     ]
    },
    {
     "ename": "SystemExit",
     "evalue": "1",
     "output_type": "error",
     "traceback": [
      "An exception has occurred, use %tb to see the full traceback.\n",
      "\u001b[1;31mSystemExit\u001b[0m\u001b[1;31m:\u001b[0m 1\n"
     ]
    },
    {
     "name": "stderr",
     "output_type": "stream",
     "text": [
      "C:\\Users\\Christin\\PycharmProjects\\pythonProject18\\venv\\lib\\site-packages\\IPython\\core\\interactiveshell.py:3516: UserWarning:\n",
      "\n",
      "To exit: use 'exit', 'quit', or Ctrl-D.\n",
      "\n"
     ]
    }
   ],
   "source": [
    "# Layout der App\n",
    "# Div-Container wird erstellt und gestaltet\n",
    "app.layout = html.Div(\n",
    "    children=[\n",
    "        dcc.Location(id=\"url\", refresh=False),\n",
    "        html.Div(id=\"page-content\")\n",
    "    ],\n",
    "\n",
    "    # seperates CSS-stylesheet gibt die Stil-Definitionen\n",
    "    # der eingebundenen html-Container vor\n",
    "    # Basierend darauf, lässt sich somit das gesamte Aussehen der App verändern\n",
    "    style={\"link\": {\"href\": \"assets/Hauptmenü.css\", \"rel\": \"stylesheet\"}}\n",
    ")\n",
    "\n",
    "\n",
    "# Callback-Funktion für das Umschalten zwischen den Seiten\n",
    "@app.callback(\n",
    "    dash.dependencies.Output(\"page-content\", \"children\"),\n",
    "    dash.dependencies.Input(\"url\", \"pathname\")\n",
    ")\n",
    "def display_page(pathname):\n",
    "    if pathname == \"/\":\n",
    "        return main_menu_layout  # Aktualisiert den angezeigten Inhalt entsprechend der ausgewählten Seite\n",
    "    elif pathname == \"/Autor*innen und ihre Werke\":\n",
    "        return theme1_layout  # Zeigt das Layout für Autor*innen und ihre Werke an\n",
    "    elif pathname == \"/Top 11 Länder: Gattungsverteilung nach Geschlecht\":\n",
    "        return theme2_layout  # Zeigt das Layout für die Gattungsverteilung nach Geschlecht an\n",
    "    elif pathname == \"/Verteilung der Autor*innen auf ausgewählte Städte in Deutschland (Karte)\":\n",
    "        return theme3_layout  # Zeigt das Layout für die Verteilung auf Städte in Deutschland an\n",
    "    elif pathname == \"/Verteilung der Nationalitäten von Autor*innen\":\n",
    "        return theme4_layout  # Zeigt das Layout für die Verteilung der Nationalitäten an\n",
    "    elif pathname == \"/Kreisdiagramme\":\n",
    "        return theme5_layout  # Zeigt das Layout für Kreisdiagramme an\n",
    "    elif pathname == \"/Balkendiagramme\":\n",
    "        return theme6_layout  # Zeigt das Layout für Balkendiagramme an\n",
    "    else:\n",
    "        return main_menu_layout  # Zeigt das Hauptmenü-Layout an\n",
    "\n",
    "\n",
    "# Callback-Funktionen für die Button-Klicks\n",
    "@app.callback(\n",
    "    dash.dependencies.Output(\"url\", \"pathname\"),\n",
    "    dash.dependencies.Input(\"button-theme1\", \"n_clicks\"),\n",
    "    dash.dependencies.Input(\"button-theme2\", \"n_clicks\"),\n",
    "    dash.dependencies.Input(\"button-theme3\", \"n_clicks\"),\n",
    "    dash.dependencies.Input(\"button-theme4\", \"n_clicks\"),\n",
    "    dash.dependencies.Input(\"button-theme5\", \"n_clicks\"),\n",
    "    dash.dependencies.Input(\"button-theme6\", \"n_clicks\")\n",
    ")\n",
    "def update_page_url(n_clicks_theme1, n_clicks_theme2, n_clicks_theme3, n_clicks_theme4, n_clicks_theme5, n_clicks_theme6):\n",
    "    if n_clicks_theme1:\n",
    "        return \"/Autor*innen und ihre Werke\"  # Aktualisiert die URL, wenn der erste Button geklickt wird\n",
    "    elif n_clicks_theme2:\n",
    "        return \"/Top 11 Länder: Gattungsverteilung nach Geschlecht\"  # Aktualisiert die URL, wenn der zweite Button geklickt wird\n",
    "    elif n_clicks_theme3:\n",
    "        return \"/Verteilung der Autor*innen auf ausgewählte Städte in Deutschland (Karte)\"  # Aktualisiert die URL, wenn der dritte Button geklickt wird\n",
    "    elif n_clicks_theme4:\n",
    "        return \"/Verteilung der Nationalitäten von Autor*innen\"  # Aktualisiert die URL, wenn der vierte Button geklickt wird\n",
    "    elif n_clicks_theme5:\n",
    "        return \"/Kreisdiagramme\"  # Aktualisiert die URL, wenn der fünfte Button geklickt wird\n",
    "    elif n_clicks_theme6:\n",
    "        return \"/Balkendiagramme\"  # Aktualisiert die URL, wenn der sechste Button geklickt wird\n",
    "    else:\n",
    "        return \"/\"  # Setzt die URL zurück auf die Startseite, wenn kein Button geklickt wurde\n",
    "\n",
    "\n",
    "# App starten\n",
    "if __name__ == \"__main__\":\n",
    "    app.run_server(debug=True)  # Startet die App im Debug-Modus"
   ]
  }
 ],
 "metadata": {
  "kernelspec": {
   "display_name": "Python 3 (ipykernel)",
   "language": "python",
   "name": "python3"
  },
  "language_info": {
   "codemirror_mode": {
    "name": "ipython",
    "version": 3
   },
   "file_extension": ".py",
   "mimetype": "text/x-python",
   "name": "python",
   "nbconvert_exporter": "python",
   "pygments_lexer": "ipython3",
   "version": "3.9.13"
  }
 },
 "nbformat": 4,
 "nbformat_minor": 5
}
